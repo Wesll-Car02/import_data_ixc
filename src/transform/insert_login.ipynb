{
 "cells": [
  {
   "cell_type": "markdown",
   "metadata": {},
   "source": [
    "# Responsável por Importar Contratos do Login"
   ]
  },
  {
   "cell_type": "markdown",
   "metadata": {},
   "source": [
    "## Importando bibliotecas"
   ]
  },
  {
   "cell_type": "code",
   "execution_count": 41,
   "metadata": {},
   "outputs": [],
   "source": [
    "import sys, os\n",
    "\n",
    "# Carregando pacote que estao fora de /transform\n",
    "path_raiz = os.path.abspath(os.path.join(\"..\", \"..\"))\n",
    "sys.path.append(path_raiz)"
   ]
  },
  {
   "cell_type": "code",
   "execution_count": 42,
   "metadata": {},
   "outputs": [],
   "source": [
    "import pandas as pd\n",
    "from src.utils import carregar_tabela_excel\n",
    "from src.insert.insert_login import inserir_radusuarios\n",
    "import json\n",
    "import datetime"
   ]
  },
  {
   "cell_type": "markdown",
   "metadata": {},
   "source": [
    "## Importando e tratando os dados"
   ]
  },
  {
   "cell_type": "code",
   "execution_count": 43,
   "metadata": {},
   "outputs": [
    {
     "data": {
      "text/plain": [
       "'20250319_230627'"
      ]
     },
     "execution_count": 43,
     "metadata": {},
     "output_type": "execute_result"
    }
   ],
   "source": [
    "# Obter a data e hora atual\n",
    "now = datetime.datetime.now()\n",
    "\n",
    "# Formatar a data e hora como 'YYYYMMDD_HHMMSS'\n",
    "timestamp = now.strftime(\"%Y%m%d_%H%M%S\")\n",
    "timestamp"
   ]
  },
  {
   "cell_type": "code",
   "execution_count": 44,
   "metadata": {},
   "outputs": [],
   "source": [
    "source_input = \"../../data/baseTesteIXC_Transform.xlsx\"\n",
    "source_input_contrato_insertd = \"../../src/inserted/contrato_insert_sucess.xlsx\"\n",
    "source_output = f\"../../src/inserted/login_insert_sucess.xlsx\""
   ]
  },
  {
   "cell_type": "code",
   "execution_count": 45,
   "metadata": {},
   "outputs": [
    {
     "data": {
      "text/html": [
       "<div>\n",
       "<style scoped>\n",
       "    .dataframe tbody tr th:only-of-type {\n",
       "        vertical-align: middle;\n",
       "    }\n",
       "\n",
       "    .dataframe tbody tr th {\n",
       "        vertical-align: top;\n",
       "    }\n",
       "\n",
       "    .dataframe thead th {\n",
       "        text-align: right;\n",
       "    }\n",
       "</style>\n",
       "<table border=\"1\" class=\"dataframe\">\n",
       "  <thead>\n",
       "    <tr style=\"text-align: right;\">\n",
       "      <th></th>\n",
       "      <th>Unnamed: 0</th>\n",
       "      <th>idClienteIXC</th>\n",
       "      <th>filial_id</th>\n",
       "      <th>idCidade</th>\n",
       "      <th>Endereco</th>\n",
       "      <th>Numero</th>\n",
       "      <th>Bairro</th>\n",
       "      <th>Cep</th>\n",
       "      <th>idPlanoIXC</th>\n",
       "      <th>idVencimentoIXC</th>\n",
       "      <th>Login</th>\n",
       "      <th>Senha</th>\n",
       "      <th>nomePlano</th>\n",
       "      <th>idContratoIXC</th>\n",
       "      <th>statusInsercao</th>\n",
       "      <th>logRetorno</th>\n",
       "    </tr>\n",
       "  </thead>\n",
       "  <tbody>\n",
       "    <tr>\n",
       "      <th>0</th>\n",
       "      <td>0</td>\n",
       "      <td>117696</td>\n",
       "      <td>35</td>\n",
       "      <td>1659</td>\n",
       "      <td>Vila São Sebastião</td>\n",
       "      <td>SN</td>\n",
       "      <td>Centro</td>\n",
       "      <td>57830-000</td>\n",
       "      <td>6824</td>\n",
       "      <td>25</td>\n",
       "      <td>teste1@radios.com</td>\n",
       "      <td>peixoto</td>\n",
       "      <td>100MB_SPEEDY</td>\n",
       "      <td>154047</td>\n",
       "      <td>sucesso</td>\n",
       "      <td>{'type': 'success', 'message': 'Registro inser...</td>\n",
       "    </tr>\n",
       "  </tbody>\n",
       "</table>\n",
       "</div>"
      ],
      "text/plain": [
       "  Unnamed: 0 idClienteIXC filial_id idCidade            Endereco Numero  \\\n",
       "0          0       117696        35     1659  Vila São Sebastião     SN   \n",
       "\n",
       "   Bairro        Cep idPlanoIXC idVencimentoIXC              Login    Senha  \\\n",
       "0  Centro  57830-000       6824              25  teste1@radios.com  peixoto   \n",
       "\n",
       "      nomePlano idContratoIXC statusInsercao  \\\n",
       "0  100MB_SPEEDY        154047        sucesso   \n",
       "\n",
       "                                          logRetorno  \n",
       "0  {'type': 'success', 'message': 'Registro inser...  "
      ]
     },
     "execution_count": 45,
     "metadata": {},
     "output_type": "execute_result"
    }
   ],
   "source": [
    "# Importa tabela de cliente para puxar o id do cliente\n",
    "df_contrato = pd.read_excel(source_input_contrato_insertd, dtype=str).fillna(\"\")\n",
    "df_contrato"
   ]
  },
  {
   "cell_type": "code",
   "execution_count": 46,
   "metadata": {},
   "outputs": [
    {
     "name": "stdout",
     "output_type": "stream",
     "text": [
      "Unnamed: 0         0\n",
      "idClienteIXC       0\n",
      "filial_id          0\n",
      "idCidade           0\n",
      "Endereco           0\n",
      "Numero             0\n",
      "Bairro             0\n",
      "Cep                0\n",
      "idPlanoIXC         0\n",
      "idVencimentoIXC    0\n",
      "Login              0\n",
      "Senha              0\n",
      "nomePlano          0\n",
      "idContratoIXC      0\n",
      "statusInsercao     0\n",
      "logRetorno         0\n",
      "dtype: int64\n"
     ]
    }
   ],
   "source": [
    "print(df_contrato.isnull().sum())"
   ]
  },
  {
   "cell_type": "markdown",
   "metadata": {},
   "source": [
    "### Adiciona o idGrupo ao dataframe"
   ]
  },
  {
   "cell_type": "code",
   "execution_count": 47,
   "metadata": {},
   "outputs": [],
   "source": [
    "import os\n",
    "import sys\n",
    "\n",
    "# Carregando pacote que estao fora de /transform\n",
    "path_raiz = os.path.abspath(os.path.join(\"..\", \"..\"))\n",
    "sys.path.append(path_raiz)\n",
    "\n",
    "from config.database_select import executa_query"
   ]
  },
  {
   "cell_type": "markdown",
   "metadata": {},
   "source": [
    "#### Cria função somente para isso"
   ]
  },
  {
   "cell_type": "code",
   "execution_count": 48,
   "metadata": {},
   "outputs": [],
   "source": [
    "# Função para adicionar a coluna 'idGrupo' ao DataFrame\n",
    "def add_idGrupo_to_df_contrato(df_contrato):\n",
    "    idGrupo_list = []\n",
    "    for _, row in df_contrato.iterrows():\n",
    "        idPlanoIXC = row['idPlanoIXC']\n",
    "        # Monta a query utilizando o idPlanoIXC da linha\n",
    "        query = f\"\"\"\n",
    "        SELECT\n",
    "            vdcp.id_plano\n",
    "        FROM\n",
    "            vd_contratos vdc\n",
    "            LEFT JOIN vd_contratos_produtos vdcp ON vdc.id = vdcp.id_vd_contrato AND vdcp.tipo = \"I\"\n",
    "        WHERE \n",
    "            vdc.id = {idPlanoIXC}\n",
    "        \"\"\"\n",
    "        resultado = executa_query(query)\n",
    "        # Caso a query retorne resultados, usamos o primeiro valor\n",
    "        if resultado and len(resultado) > 0:\n",
    "            id_plano = resultado[0][0]\n",
    "        else:\n",
    "            id_plano = None\n",
    "        idGrupo_list.append(id_plano)\n",
    "    \n",
    "    # Cria a nova coluna 'idGrupo' no DataFrame\n",
    "    df_contrato['idGrupo'] = idGrupo_list\n",
    "    return df_contrato"
   ]
  },
  {
   "cell_type": "code",
   "execution_count": 49,
   "metadata": {},
   "outputs": [
    {
     "data": {
      "text/html": [
       "<div>\n",
       "<style scoped>\n",
       "    .dataframe tbody tr th:only-of-type {\n",
       "        vertical-align: middle;\n",
       "    }\n",
       "\n",
       "    .dataframe tbody tr th {\n",
       "        vertical-align: top;\n",
       "    }\n",
       "\n",
       "    .dataframe thead th {\n",
       "        text-align: right;\n",
       "    }\n",
       "</style>\n",
       "<table border=\"1\" class=\"dataframe\">\n",
       "  <thead>\n",
       "    <tr style=\"text-align: right;\">\n",
       "      <th></th>\n",
       "      <th>Unnamed: 0</th>\n",
       "      <th>idClienteIXC</th>\n",
       "      <th>filial_id</th>\n",
       "      <th>idCidade</th>\n",
       "      <th>Endereco</th>\n",
       "      <th>Numero</th>\n",
       "      <th>Bairro</th>\n",
       "      <th>Cep</th>\n",
       "      <th>idPlanoIXC</th>\n",
       "      <th>idVencimentoIXC</th>\n",
       "      <th>Login</th>\n",
       "      <th>Senha</th>\n",
       "      <th>nomePlano</th>\n",
       "      <th>idContratoIXC</th>\n",
       "      <th>statusInsercao</th>\n",
       "      <th>logRetorno</th>\n",
       "      <th>idGrupo</th>\n",
       "    </tr>\n",
       "  </thead>\n",
       "  <tbody>\n",
       "    <tr>\n",
       "      <th>0</th>\n",
       "      <td>0</td>\n",
       "      <td>117696</td>\n",
       "      <td>35</td>\n",
       "      <td>1659</td>\n",
       "      <td>Vila São Sebastião</td>\n",
       "      <td>SN</td>\n",
       "      <td>Centro</td>\n",
       "      <td>57830-000</td>\n",
       "      <td>6824</td>\n",
       "      <td>25</td>\n",
       "      <td>teste1@radios.com</td>\n",
       "      <td>peixoto</td>\n",
       "      <td>100MB_SPEEDY</td>\n",
       "      <td>154047</td>\n",
       "      <td>sucesso</td>\n",
       "      <td>{'type': 'success', 'message': 'Registro inser...</td>\n",
       "      <td>6668</td>\n",
       "    </tr>\n",
       "  </tbody>\n",
       "</table>\n",
       "</div>"
      ],
      "text/plain": [
       "  Unnamed: 0 idClienteIXC filial_id idCidade            Endereco Numero  \\\n",
       "0          0       117696        35     1659  Vila São Sebastião     SN   \n",
       "\n",
       "   Bairro        Cep idPlanoIXC idVencimentoIXC              Login    Senha  \\\n",
       "0  Centro  57830-000       6824              25  teste1@radios.com  peixoto   \n",
       "\n",
       "      nomePlano idContratoIXC statusInsercao  \\\n",
       "0  100MB_SPEEDY        154047        sucesso   \n",
       "\n",
       "                                          logRetorno  idGrupo  \n",
       "0  {'type': 'success', 'message': 'Registro inser...     6668  "
      ]
     },
     "execution_count": 49,
     "metadata": {},
     "output_type": "execute_result"
    }
   ],
   "source": [
    "df_contrato = add_idGrupo_to_df_contrato(df_contrato)\n",
    "df_contrato"
   ]
  },
  {
   "cell_type": "markdown",
   "metadata": {},
   "source": [
    "### Inserção teste"
   ]
  },
  {
   "cell_type": "code",
   "execution_count": 50,
   "metadata": {},
   "outputs": [],
   "source": [
    "# inserir_radusuarios(\n",
    "#     id_cliente=\"117695\",\n",
    "#     id_contrato=\"154045\",\n",
    "#     id_grupo=\"6668\",\n",
    "#     login=\"weslley123ss\",\n",
    "#     senha=\"testesenhappoe\",\n",
    "# )"
   ]
  },
  {
   "cell_type": "markdown",
   "metadata": {},
   "source": [
    "## Insere Login"
   ]
  },
  {
   "cell_type": "code",
   "execution_count": 51,
   "metadata": {},
   "outputs": [
    {
     "name": "stdout",
     "output_type": "stream",
     "text": [
      "200 OK\n",
      "b'{\"type\":\"success\",\"message\":\"Registro inserido com sucesso!\",\"id\":\"181284\",\"atualiza_campos\":[{\"tipo\":\"s\",\"campo\":\"online\",\"valor\":\"\"},{\"tipo\":\"i\",\"campo\":\"id_cliente\",\"valor\":\"117696\"}]}'\n"
     ]
    }
   ],
   "source": [
    "# Faça uma cópia do DataFrame para evitar o SettingWithCopyWarning\n",
    "df_contrato = df_contrato.copy()\n",
    "\n",
    "# Crie as colunas adicionais para registrar o retorno da API (inicialmente vazias)\n",
    "df_contrato.loc[:, \"idRadUsuarios\"] = None\n",
    "df_contrato.loc[:, \"statusInsercaoRad\"] = None\n",
    "df_contrato.loc[:, \"logRetornoRad\"] = None\n",
    "\n",
    "for idx, row in df_contrato.iterrows():\n",
    "    # Mapeamento dos dados do DataFrame para os parâmetros da função inserir_radusuarios.\n",
    "    # Certifique-se de que os campos obrigatórios estejam preenchidos.\n",
    "    id_cliente = row[\"idClienteIXC\"]      # Valor do cliente\n",
    "    id_contrato = row[\"idContratoIXC\"]      # Deve vir de uma inserção anterior\n",
    "    # Como o id_grupo não existe no DataFrame, definimos um valor fixo ou calculado conforme sua regra\n",
    "    id_grupo = [row[\"idGrupo\"]]  # Exemplo: \"6668\"\n",
    "    login = row[\"Login\"]\n",
    "    senha = row[\"Senha\"]\n",
    "    cidade = row[\"idCidade\"]\n",
    "    endereco = row[\"Endereco\"]\n",
    "    numero = row[\"Numero\"]\n",
    "    bairro = row[\"Bairro\"]\n",
    "    cep = row[\"Cep\"]\n",
    "    # Se necessário, pode-se ajustar senha_md5 ou outros parâmetros, mas aqui usaremos os defaults da função.\n",
    "\n",
    "    # Chama a função inserir_radusuarios com os parâmetros mapeados\n",
    "    response = inserir_radusuarios(\n",
    "        id_cliente=id_cliente,\n",
    "        id_contrato=id_contrato,\n",
    "        id_grupo=id_grupo,\n",
    "        login=login,\n",
    "        senha=senha,\n",
    "        cep=cep,\n",
    "        endereco=endereco,\n",
    "        numero=numero,\n",
    "        bairro=bairro,\n",
    "        cidade=cidade,\n",
    "        # Os demais parâmetros serão utilizados com seus valores default definidos na função.\n",
    "    )\n",
    "\n",
    "    status_code = response.status_code\n",
    "    content = response.content  # bytes\n",
    "\n",
    "    # Faz o parse do JSON retornado\n",
    "    json_resp = json.loads(content.decode(\"utf-8\", errors=\"replace\"))\n",
    "\n",
    "    if status_code == 200 and json_resp.get(\"type\") == \"success\":\n",
    "        # Sucesso: captura o \"id\" do usuário inserido\n",
    "        usuario_id = json_resp.get(\"id\")  # Exemplo: \"154036\"\n",
    "        df_contrato.at[idx, \"idRadUsuarios\"] = usuario_id\n",
    "        df_contrato.at[idx, \"statusInsercaoRad\"] = \"sucesso\"\n",
    "        df_contrato.at[idx, \"logRetornoRad\"] = json_resp\n",
    "    else:\n",
    "        # Em caso de falha: registra os logs e garante que idRadUsuarios fique como None\n",
    "        df_contrato.at[idx, \"idRadUsuarios\"] = None\n",
    "        df_contrato.at[idx, \"statusInsercaoRad\"] = \"falha\"\n",
    "        df_contrato.at[idx, \"logRetornoRad\"] = json_resp\n"
   ]
  },
  {
   "cell_type": "markdown",
   "metadata": {},
   "source": [
    "### Retorno"
   ]
  },
  {
   "cell_type": "code",
   "execution_count": 52,
   "metadata": {},
   "outputs": [],
   "source": [
    "# Remove colunas logRetorno e idGrupo\n",
    "df_contrato.drop(columns=[\"logRetorno\", \"idGrupo\"], inplace=True)"
   ]
  },
  {
   "cell_type": "code",
   "execution_count": 53,
   "metadata": {},
   "outputs": [],
   "source": [
    "df_contrato.to_excel(source_output)"
   ]
  },
  {
   "cell_type": "code",
   "execution_count": 54,
   "metadata": {},
   "outputs": [
    {
     "data": {
      "text/html": [
       "<div>\n",
       "<style scoped>\n",
       "    .dataframe tbody tr th:only-of-type {\n",
       "        vertical-align: middle;\n",
       "    }\n",
       "\n",
       "    .dataframe tbody tr th {\n",
       "        vertical-align: top;\n",
       "    }\n",
       "\n",
       "    .dataframe thead th {\n",
       "        text-align: right;\n",
       "    }\n",
       "</style>\n",
       "<table border=\"1\" class=\"dataframe\">\n",
       "  <thead>\n",
       "    <tr style=\"text-align: right;\">\n",
       "      <th></th>\n",
       "      <th>Unnamed: 0</th>\n",
       "      <th>idClienteIXC</th>\n",
       "      <th>filial_id</th>\n",
       "      <th>idCidade</th>\n",
       "      <th>Endereco</th>\n",
       "      <th>Numero</th>\n",
       "      <th>Bairro</th>\n",
       "      <th>Cep</th>\n",
       "      <th>idPlanoIXC</th>\n",
       "      <th>idVencimentoIXC</th>\n",
       "      <th>Login</th>\n",
       "      <th>Senha</th>\n",
       "      <th>nomePlano</th>\n",
       "      <th>idContratoIXC</th>\n",
       "      <th>statusInsercao</th>\n",
       "      <th>idRadUsuarios</th>\n",
       "      <th>statusInsercaoRad</th>\n",
       "      <th>logRetornoRad</th>\n",
       "    </tr>\n",
       "  </thead>\n",
       "  <tbody>\n",
       "    <tr>\n",
       "      <th>0</th>\n",
       "      <td>0</td>\n",
       "      <td>117696</td>\n",
       "      <td>35</td>\n",
       "      <td>1659</td>\n",
       "      <td>Vila São Sebastião</td>\n",
       "      <td>SN</td>\n",
       "      <td>Centro</td>\n",
       "      <td>57830-000</td>\n",
       "      <td>6824</td>\n",
       "      <td>25</td>\n",
       "      <td>teste1@radios.com</td>\n",
       "      <td>peixoto</td>\n",
       "      <td>100MB_SPEEDY</td>\n",
       "      <td>154047</td>\n",
       "      <td>sucesso</td>\n",
       "      <td>181284</td>\n",
       "      <td>sucesso</td>\n",
       "      <td>{'type': 'success', 'message': 'Registro inser...</td>\n",
       "    </tr>\n",
       "  </tbody>\n",
       "</table>\n",
       "</div>"
      ],
      "text/plain": [
       "  Unnamed: 0 idClienteIXC filial_id idCidade            Endereco Numero  \\\n",
       "0          0       117696        35     1659  Vila São Sebastião     SN   \n",
       "\n",
       "   Bairro        Cep idPlanoIXC idVencimentoIXC              Login    Senha  \\\n",
       "0  Centro  57830-000       6824              25  teste1@radios.com  peixoto   \n",
       "\n",
       "      nomePlano idContratoIXC statusInsercao idRadUsuarios statusInsercaoRad  \\\n",
       "0  100MB_SPEEDY        154047        sucesso        181284           sucesso   \n",
       "\n",
       "                                       logRetornoRad  \n",
       "0  {'type': 'success', 'message': 'Registro inser...  "
      ]
     },
     "execution_count": 54,
     "metadata": {},
     "output_type": "execute_result"
    }
   ],
   "source": [
    "df_contrato"
   ]
  }
 ],
 "metadata": {
  "kernelspec": {
   "display_name": "Python 3",
   "language": "python",
   "name": "python3"
  },
  "language_info": {
   "codemirror_mode": {
    "name": "ipython",
    "version": 3
   },
   "file_extension": ".py",
   "mimetype": "text/x-python",
   "name": "python",
   "nbconvert_exporter": "python",
   "pygments_lexer": "ipython3",
   "version": "3.13.0"
  }
 },
 "nbformat": 4,
 "nbformat_minor": 2
}
