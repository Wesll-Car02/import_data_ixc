{
 "cells": [
  {
   "cell_type": "markdown",
   "metadata": {},
   "source": [
    "# Responsável por tratar os dados pertinente a cliente"
   ]
  },
  {
   "cell_type": "markdown",
   "metadata": {},
   "source": [
    "## Importando bibliotecas"
   ]
  },
  {
   "cell_type": "code",
   "execution_count": 38,
   "metadata": {},
   "outputs": [],
   "source": [
    "import sys, os\n",
    "\n",
    "# Carregando pacote que estao fora de /transform\n",
    "path_raiz = os.path.abspath(os.path.join(\"..\", \"..\"))\n",
    "sys.path.append(path_raiz)"
   ]
  },
  {
   "cell_type": "code",
   "execution_count": 39,
   "metadata": {},
   "outputs": [],
   "source": [
    "import pandas as pd\n",
    "from src.utils import carregar_tabela_excel\n",
    "from src.insert.insert_contract import inserir_contrato\n",
    "import json\n",
    "import datetime"
   ]
  },
  {
   "cell_type": "markdown",
   "metadata": {},
   "source": [
    "## Importando e tratando os dados"
   ]
  },
  {
   "cell_type": "code",
   "execution_count": 40,
   "metadata": {},
   "outputs": [
    {
     "data": {
      "text/plain": [
       "'20250319_205152'"
      ]
     },
     "execution_count": 40,
     "metadata": {},
     "output_type": "execute_result"
    }
   ],
   "source": [
    "# Obter a data e hora atual\n",
    "now = datetime.datetime.now()\n",
    "\n",
    "# Formatar a data e hora como 'YYYYMMDD_HHMMSS'\n",
    "timestamp = now.strftime(\"%Y%m%d_%H%M%S\")\n",
    "timestamp"
   ]
  },
  {
   "cell_type": "code",
   "execution_count": 41,
   "metadata": {},
   "outputs": [],
   "source": [
    "source_input = \"../../data/baseTesteIXC_Transform.xlsx\"\n",
    "source_output = f\"../../src/inserted/contrato_insert_{timestamp}.xlsx\""
   ]
  },
  {
   "cell_type": "code",
   "execution_count": 42,
   "metadata": {},
   "outputs": [
    {
     "data": {
      "text/html": [
       "<div>\n",
       "<style scoped>\n",
       "    .dataframe tbody tr th:only-of-type {\n",
       "        vertical-align: middle;\n",
       "    }\n",
       "\n",
       "    .dataframe tbody tr th {\n",
       "        vertical-align: top;\n",
       "    }\n",
       "\n",
       "    .dataframe thead th {\n",
       "        text-align: right;\n",
       "    }\n",
       "</style>\n",
       "<table border=\"1\" class=\"dataframe\">\n",
       "  <thead>\n",
       "    <tr style=\"text-align: right;\">\n",
       "      <th></th>\n",
       "      <th>Unnamed: 0</th>\n",
       "      <th>id</th>\n",
       "      <th>razaoSocial</th>\n",
       "      <th>Email</th>\n",
       "      <th>Celular</th>\n",
       "      <th>cpf_cnpj</th>\n",
       "      <th>rg_ie</th>\n",
       "      <th>filial_id</th>\n",
       "      <th>idCidade</th>\n",
       "      <th>Endereco</th>\n",
       "      <th>Complemento</th>\n",
       "      <th>Numero</th>\n",
       "      <th>Bairro</th>\n",
       "      <th>Cep</th>\n",
       "      <th>idPlanoIXC</th>\n",
       "      <th>idVencimentoIXC</th>\n",
       "      <th>Login</th>\n",
       "      <th>Senha</th>\n",
       "    </tr>\n",
       "  </thead>\n",
       "  <tbody>\n",
       "    <tr>\n",
       "      <th>0</th>\n",
       "      <td>0</td>\n",
       "      <td>1306</td>\n",
       "      <td>Abelanio Veríssimo Peixoto</td>\n",
       "      <td>teste@gmail.com</td>\n",
       "      <td>99999999999</td>\n",
       "      <td>014.846.390-81</td>\n",
       "      <td>Isento</td>\n",
       "      <td>35</td>\n",
       "      <td>1659</td>\n",
       "      <td>Vila São Sebastião</td>\n",
       "      <td>Próximo ao cacimbão</td>\n",
       "      <td>0</td>\n",
       "      <td>Centro</td>\n",
       "      <td>57830-000</td>\n",
       "      <td>6824</td>\n",
       "      <td></td>\n",
       "      <td>teste1@radios.com</td>\n",
       "      <td>peixoto</td>\n",
       "    </tr>\n",
       "  </tbody>\n",
       "</table>\n",
       "</div>"
      ],
      "text/plain": [
       "  Unnamed: 0    id                 razaoSocial            Email      Celular  \\\n",
       "0          0  1306  Abelanio Veríssimo Peixoto  teste@gmail.com  99999999999   \n",
       "\n",
       "         cpf_cnpj   rg_ie filial_id idCidade            Endereco  \\\n",
       "0  014.846.390-81  Isento        35     1659  Vila São Sebastião   \n",
       "\n",
       "           Complemento Numero  Bairro        Cep idPlanoIXC idVencimentoIXC  \\\n",
       "0  Próximo ao cacimbão      0  Centro  57830-000       6824                   \n",
       "\n",
       "               Login    Senha  \n",
       "0  teste1@radios.com  peixoto  "
      ]
     },
     "execution_count": 42,
     "metadata": {},
     "output_type": "execute_result"
    }
   ],
   "source": [
    "# Carregar o DataFrame com as colunas especificadas como strings\n",
    "df = pd.read_excel(source_input, dtype=str).fillna(\"\")\n",
    "df"
   ]
  },
  {
   "cell_type": "code",
   "execution_count": 43,
   "metadata": {},
   "outputs": [],
   "source": [
    "# Lista das colunas que fazem sentido enviar para a API\n",
    "colunas_para_api = [\n",
    "    'razaoSocial',\n",
    "    'Email',\n",
    "    'Celular',\n",
    "    'cpf_cnpj',\n",
    "    'rg_ie',\n",
    "    'filial_id',\n",
    "    'idCidade',\n",
    "    'Endereco',\n",
    "    'Complemento',\n",
    "    'Numero',\n",
    "    'Bairro',\n",
    "    'Cep',\n",
    "]\n",
    "\n",
    "# Filtra o DataFrame para manter apenas essas colunas\n",
    "df = df[colunas_para_api]\n"
   ]
  },
  {
   "cell_type": "markdown",
   "metadata": {},
   "source": [
    "### Inserção teste"
   ]
  },
  {
   "cell_type": "code",
   "execution_count": 44,
   "metadata": {},
   "outputs": [
    {
     "ename": "TypeError",
     "evalue": "inserir_contrato() got an unexpected keyword argument 'numero'",
     "output_type": "error",
     "traceback": [
      "\u001b[31m---------------------------------------------------------------------------\u001b[39m",
      "\u001b[31mTypeError\u001b[39m                                 Traceback (most recent call last)",
      "\u001b[36mCell\u001b[39m\u001b[36m \u001b[39m\u001b[32mIn[44]\u001b[39m\u001b[32m, line 1\u001b[39m\n\u001b[32m----> \u001b[39m\u001b[32m1\u001b[39m \u001b[43minserir_contrato\u001b[49m\u001b[43m(\u001b[49m\n\u001b[32m      2\u001b[39m \u001b[43m    \u001b[49m\u001b[43mtipo\u001b[49m\u001b[43m=\u001b[49m\u001b[33;43m\"\u001b[39;49m\u001b[33;43mI\u001b[39;49m\u001b[33;43m\"\u001b[39;49m\u001b[43m,\u001b[49m\n\u001b[32m      3\u001b[39m \u001b[43m    \u001b[49m\u001b[43mid_cliente\u001b[49m\u001b[43m=\u001b[49m\u001b[33;43m\"\u001b[39;49m\u001b[33;43m117641\u001b[39;49m\u001b[33;43m\"\u001b[39;49m\u001b[43m,\u001b[49m\n\u001b[32m      4\u001b[39m \u001b[43m    \u001b[49m\u001b[43mid_vd_contrato\u001b[49m\u001b[43m=\u001b[49m\u001b[33;43m\"\u001b[39;49m\u001b[33;43m6824\u001b[39;49m\u001b[33;43m\"\u001b[39;49m\u001b[43m,\u001b[49m\u001b[43m  \u001b[49m\u001b[38;5;66;43;03m# Plano do contrato\u001b[39;49;00m\n\u001b[32m      5\u001b[39m \u001b[43m    \u001b[49m\u001b[43mid_tipo_contrato\u001b[49m\u001b[43m=\u001b[49m\u001b[33;43m\"\u001b[39;49m\u001b[33;43m5\u001b[39;49m\u001b[33;43m\"\u001b[39;49m\u001b[43m,\u001b[49m\u001b[43m  \u001b[49m\u001b[38;5;66;43;03m# Id tipo de cobrança\u001b[39;49;00m\n\u001b[32m      6\u001b[39m \u001b[43m    \u001b[49m\u001b[43mid_modelo\u001b[49m\u001b[43m=\u001b[49m\u001b[33;43m\"\u001b[39;49m\u001b[33;43m179\u001b[39;49m\u001b[33;43m\"\u001b[39;49m\u001b[43m,\u001b[49m\u001b[43m  \u001b[49m\u001b[38;5;66;43;03m# Id modelo do contrato\u001b[39;49;00m\n\u001b[32m      7\u001b[39m \u001b[43m    \u001b[49m\u001b[43mid_filial\u001b[49m\u001b[43m=\u001b[49m\u001b[33;43m\"\u001b[39;49m\u001b[33;43m35\u001b[39;49m\u001b[33;43m\"\u001b[39;49m\u001b[43m,\u001b[49m\n\u001b[32m      8\u001b[39m \u001b[43m    \u001b[49m\u001b[43mid_vendedor\u001b[49m\u001b[43m=\u001b[49m\u001b[33;43m\"\u001b[39;49m\u001b[33;43m1\u001b[39;49m\u001b[33;43m\"\u001b[39;49m\u001b[43m,\u001b[49m\n\u001b[32m      9\u001b[39m \u001b[43m    \u001b[49m\u001b[43mdata_base_financeira\u001b[49m\u001b[43m=\u001b[49m\u001b[33;43m\"\u001b[39;49m\u001b[33;43m2024-04-01\u001b[39;49m\u001b[33;43m\"\u001b[39;49m\u001b[43m,\u001b[49m\n\u001b[32m     10\u001b[39m \u001b[43m    \u001b[49m\u001b[43mcontrato\u001b[49m\u001b[43m=\u001b[49m\u001b[33;43m\"\u001b[39;49m\u001b[33;43mIMPORTAÇÃO\u001b[39;49m\u001b[33;43m\"\u001b[39;49m\u001b[43m,\u001b[49m\n\u001b[32m     11\u001b[39m \u001b[43m    \u001b[49m\u001b[43mid_carteira_cobranca\u001b[49m\u001b[43m=\u001b[49m\u001b[33;43m\"\u001b[39;49m\u001b[33;43m67\u001b[39;49m\u001b[33;43m\"\u001b[39;49m\u001b[43m,\u001b[49m\n\u001b[32m     12\u001b[39m \u001b[43m    \u001b[49m\u001b[43mcep\u001b[49m\u001b[43m=\u001b[49m\u001b[33;43m\"\u001b[39;49m\u001b[33;43m57160-000\u001b[39;49m\u001b[33;43m\"\u001b[39;49m\u001b[43m,\u001b[49m\n\u001b[32m     13\u001b[39m \u001b[43m    \u001b[49m\u001b[43mendereco\u001b[49m\u001b[43m=\u001b[49m\u001b[33;43m\"\u001b[39;49m\u001b[33;43mRUA DO TESTE\u001b[39;49m\u001b[33;43m\"\u001b[39;49m\u001b[43m,\u001b[49m\n\u001b[32m     14\u001b[39m \u001b[43m    \u001b[49m\u001b[43mnumero\u001b[49m\u001b[43m=\u001b[49m\u001b[33;43m\"\u001b[39;49m\u001b[33;43m123\u001b[39;49m\u001b[33;43m\"\u001b[39;49m\u001b[43m,\u001b[49m\n\u001b[32m     15\u001b[39m \u001b[43m    \u001b[49m\u001b[43mbairro\u001b[49m\u001b[43m=\u001b[49m\u001b[33;43m\"\u001b[39;49m\u001b[33;43mBairro XPTO\u001b[39;49m\u001b[33;43m\"\u001b[39;49m\u001b[43m,\u001b[49m\n\u001b[32m     16\u001b[39m \u001b[43m    \u001b[49m\u001b[43mfilial_id\u001b[49m\u001b[43m=\u001b[49m\u001b[33;43m\"\u001b[39;49m\u001b[33;43m35\u001b[39;49m\u001b[33;43m\"\u001b[39;49m\u001b[43m,\u001b[49m\n\u001b[32m     17\u001b[39m \u001b[43m    \u001b[49m\u001b[43mcidade\u001b[49m\u001b[43m=\u001b[49m\u001b[33;43m\"\u001b[39;49m\u001b[33;43m1659\u001b[39;49m\u001b[33;43m\"\u001b[39;49m\u001b[43m,\u001b[49m\n\u001b[32m     18\u001b[39m \u001b[43m)\u001b[49m\n",
      "\u001b[31mTypeError\u001b[39m: inserir_contrato() got an unexpected keyword argument 'numero'"
     ]
    }
   ],
   "source": [
    "inserir_contrato(\n",
    "    tipo=\"I\",\n",
    "    id_cliente=\"117641\",\n",
    "    id_vd_contrato=\"6824\",  # Plano do contrato\n",
    "    id_tipo_contrato=\"5\",  # Id tipo de cobrança\n",
    "    id_modelo=\"179\",  # Id modelo do contrato\n",
    "    id_filial=\"35\",\n",
    "    id_vendedor=\"1\",\n",
    "    data_base_financeira=\"2024-04-01\",\n",
    "    contrato=\"IMPORTAÇÃO\",\n",
    "    id_carteira_cobranca=\"67\",\n",
    "    cep=\"57160-000\",\n",
    "    endereco=\"RUA DO TESTE\",\n",
    "    numero=\"123\",\n",
    "    bairro=\"Bairro XPTO\",\n",
    "    filial_id=\"35\",\n",
    "    cidade=\"1659\",\n",
    ")"
   ]
  },
  {
   "cell_type": "markdown",
   "metadata": {},
   "source": [
    "## Inserção do DF"
   ]
  }
 ],
 "metadata": {
  "kernelspec": {
   "display_name": "Python 3",
   "language": "python",
   "name": "python3"
  },
  "language_info": {
   "codemirror_mode": {
    "name": "ipython",
    "version": 3
   },
   "file_extension": ".py",
   "mimetype": "text/x-python",
   "name": "python",
   "nbconvert_exporter": "python",
   "pygments_lexer": "ipython3",
   "version": "3.13.0"
  }
 },
 "nbformat": 4,
 "nbformat_minor": 2
}
