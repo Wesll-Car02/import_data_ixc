{
 "cells": [
  {
   "cell_type": "markdown",
   "metadata": {},
   "source": [
    "# Responsável por Importar Contratos do Cliente"
   ]
  },
  {
   "cell_type": "markdown",
   "metadata": {},
   "source": [
    "## Importando bibliotecas"
   ]
  },
  {
   "cell_type": "code",
   "execution_count": 60,
   "metadata": {},
   "outputs": [],
   "source": [
    "import sys, os\n",
    "\n",
    "# Carregando pacote que estao fora de /transform\n",
    "path_raiz = os.path.abspath(os.path.join(\"..\", \"..\"))\n",
    "sys.path.append(path_raiz)"
   ]
  },
  {
   "cell_type": "code",
   "execution_count": 61,
   "metadata": {},
   "outputs": [],
   "source": [
    "import pandas as pd\n",
    "from src.utils import carregar_tabela_excel\n",
    "from src.insert.insert_contract import inserir_contrato\n",
    "import json\n",
    "import datetime"
   ]
  },
  {
   "cell_type": "markdown",
   "metadata": {},
   "source": [
    "## Importando e tratando os dados"
   ]
  },
  {
   "cell_type": "code",
   "execution_count": 62,
   "metadata": {},
   "outputs": [
    {
     "data": {
      "text/plain": [
       "'20250319_230411'"
      ]
     },
     "execution_count": 62,
     "metadata": {},
     "output_type": "execute_result"
    }
   ],
   "source": [
    "# Obter a data e hora atual\n",
    "now = datetime.datetime.now()\n",
    "\n",
    "# Formatar a data e hora como 'YYYYMMDD_HHMMSS'\n",
    "timestamp = now.strftime(\"%Y%m%d_%H%M%S\")\n",
    "timestamp"
   ]
  },
  {
   "cell_type": "code",
   "execution_count": 63,
   "metadata": {},
   "outputs": [],
   "source": [
    "source_input = \"../../data/baseTesteIXC_Transform.xlsx\"\n",
    "source_input_client_insertd = \"../../src/inserted/cliente_insert_sucess.xlsx\"\n",
    "source_output = f\"../../src/inserted/contrato_insert_sucess.xlsx\""
   ]
  },
  {
   "cell_type": "code",
   "execution_count": 64,
   "metadata": {},
   "outputs": [
    {
     "data": {
      "text/html": [
       "<div>\n",
       "<style scoped>\n",
       "    .dataframe tbody tr th:only-of-type {\n",
       "        vertical-align: middle;\n",
       "    }\n",
       "\n",
       "    .dataframe tbody tr th {\n",
       "        vertical-align: top;\n",
       "    }\n",
       "\n",
       "    .dataframe thead th {\n",
       "        text-align: right;\n",
       "    }\n",
       "</style>\n",
       "<table border=\"1\" class=\"dataframe\">\n",
       "  <thead>\n",
       "    <tr style=\"text-align: right;\">\n",
       "      <th></th>\n",
       "      <th>Unnamed: 0</th>\n",
       "      <th>id</th>\n",
       "      <th>razaoSocial</th>\n",
       "      <th>Email</th>\n",
       "      <th>Celular</th>\n",
       "      <th>cpf_cnpj</th>\n",
       "      <th>rg_ie</th>\n",
       "      <th>filial_id</th>\n",
       "      <th>idCidade</th>\n",
       "      <th>Endereco</th>\n",
       "      <th>Complemento</th>\n",
       "      <th>Numero</th>\n",
       "      <th>Bairro</th>\n",
       "      <th>Cep</th>\n",
       "      <th>idClienteIXC</th>\n",
       "      <th>statusInsercao</th>\n",
       "      <th>logRetorno</th>\n",
       "    </tr>\n",
       "  </thead>\n",
       "  <tbody>\n",
       "    <tr>\n",
       "      <th>0</th>\n",
       "      <td>0</td>\n",
       "      <td>1306</td>\n",
       "      <td>Abelanio Veríssimo Peixoto</td>\n",
       "      <td>teste@gmail.com</td>\n",
       "      <td>99999999999</td>\n",
       "      <td>014.846.390-81</td>\n",
       "      <td>Isento</td>\n",
       "      <td>35</td>\n",
       "      <td>1659</td>\n",
       "      <td>Vila São Sebastião</td>\n",
       "      <td>Próximo ao cacimbão</td>\n",
       "      <td>SN</td>\n",
       "      <td>Centro</td>\n",
       "      <td>57830-000</td>\n",
       "      <td>117696</td>\n",
       "      <td>sucesso</td>\n",
       "      <td>{'type': 'success', 'message': 'Registro inser...</td>\n",
       "    </tr>\n",
       "  </tbody>\n",
       "</table>\n",
       "</div>"
      ],
      "text/plain": [
       "  Unnamed: 0    id                 razaoSocial            Email      Celular  \\\n",
       "0          0  1306  Abelanio Veríssimo Peixoto  teste@gmail.com  99999999999   \n",
       "\n",
       "         cpf_cnpj   rg_ie filial_id idCidade            Endereco  \\\n",
       "0  014.846.390-81  Isento        35     1659  Vila São Sebastião   \n",
       "\n",
       "           Complemento Numero  Bairro        Cep idClienteIXC statusInsercao  \\\n",
       "0  Próximo ao cacimbão     SN  Centro  57830-000       117696        sucesso   \n",
       "\n",
       "                                          logRetorno  \n",
       "0  {'type': 'success', 'message': 'Registro inser...  "
      ]
     },
     "execution_count": 64,
     "metadata": {},
     "output_type": "execute_result"
    }
   ],
   "source": [
    "# Importa tabela de cliente para puxar o id do cliente\n",
    "df_client = pd.read_excel(source_input_client_insertd, dtype=str).fillna(\"\")\n",
    "df_client"
   ]
  },
  {
   "cell_type": "code",
   "execution_count": 65,
   "metadata": {},
   "outputs": [
    {
     "data": {
      "text/html": [
       "<div>\n",
       "<style scoped>\n",
       "    .dataframe tbody tr th:only-of-type {\n",
       "        vertical-align: middle;\n",
       "    }\n",
       "\n",
       "    .dataframe tbody tr th {\n",
       "        vertical-align: top;\n",
       "    }\n",
       "\n",
       "    .dataframe thead th {\n",
       "        text-align: right;\n",
       "    }\n",
       "</style>\n",
       "<table border=\"1\" class=\"dataframe\">\n",
       "  <thead>\n",
       "    <tr style=\"text-align: right;\">\n",
       "      <th></th>\n",
       "      <th>Unnamed: 0</th>\n",
       "      <th>id</th>\n",
       "      <th>razaoSocial</th>\n",
       "      <th>Email</th>\n",
       "      <th>Celular</th>\n",
       "      <th>cpf_cnpj</th>\n",
       "      <th>rg_ie</th>\n",
       "      <th>filial_id</th>\n",
       "      <th>idCidade</th>\n",
       "      <th>Endereco</th>\n",
       "      <th>Complemento</th>\n",
       "      <th>Numero</th>\n",
       "      <th>Bairro</th>\n",
       "      <th>Cep</th>\n",
       "      <th>idPlanoIXC</th>\n",
       "      <th>idVencimentoIXC</th>\n",
       "      <th>Login</th>\n",
       "      <th>Senha</th>\n",
       "      <th>idClienteIXC</th>\n",
       "    </tr>\n",
       "  </thead>\n",
       "  <tbody>\n",
       "    <tr>\n",
       "      <th>0</th>\n",
       "      <td>0</td>\n",
       "      <td>1306</td>\n",
       "      <td>Abelanio Veríssimo Peixoto</td>\n",
       "      <td>teste@gmail.com</td>\n",
       "      <td>99999999999</td>\n",
       "      <td>014.846.390-81</td>\n",
       "      <td>Isento</td>\n",
       "      <td>35</td>\n",
       "      <td>1659</td>\n",
       "      <td>Vila São Sebastião</td>\n",
       "      <td>Próximo ao cacimbão</td>\n",
       "      <td>SN</td>\n",
       "      <td>Centro</td>\n",
       "      <td>57830-000</td>\n",
       "      <td>6824</td>\n",
       "      <td>25</td>\n",
       "      <td>teste1@radios.com</td>\n",
       "      <td>peixoto</td>\n",
       "      <td>117696</td>\n",
       "    </tr>\n",
       "  </tbody>\n",
       "</table>\n",
       "</div>"
      ],
      "text/plain": [
       "  Unnamed: 0    id                 razaoSocial            Email      Celular  \\\n",
       "0          0  1306  Abelanio Veríssimo Peixoto  teste@gmail.com  99999999999   \n",
       "\n",
       "         cpf_cnpj   rg_ie filial_id idCidade            Endereco  \\\n",
       "0  014.846.390-81  Isento        35     1659  Vila São Sebastião   \n",
       "\n",
       "           Complemento Numero  Bairro        Cep idPlanoIXC idVencimentoIXC  \\\n",
       "0  Próximo ao cacimbão     SN  Centro  57830-000       6824              25   \n",
       "\n",
       "               Login    Senha idClienteIXC  \n",
       "0  teste1@radios.com  peixoto       117696  "
      ]
     },
     "execution_count": 65,
     "metadata": {},
     "output_type": "execute_result"
    }
   ],
   "source": [
    "# Carregar o DataFrame com as colunas especificadas como strings\n",
    "df = pd.read_excel(source_input, dtype=str).fillna(\"\")\n",
    "\n",
    "# Puxa o id do cliente para inserir no contrato tendo como chave o CPF ou CNPJ\n",
    "df = df.merge(df_client[[\"idClienteIXC\", \"cpf_cnpj\"]], how=\"left\", left_on=\"cpf_cnpj\", right_on=\"cpf_cnpj\")\n",
    "df"
   ]
  },
  {
   "cell_type": "code",
   "execution_count": 66,
   "metadata": {},
   "outputs": [],
   "source": [
    "# Lista das colunas que fazem sentido enviar para a API\n",
    "colunas_para_api = [\n",
    "    'idClienteIXC',\n",
    "    'filial_id',\n",
    "    'idCidade',\n",
    "    'Endereco',\n",
    "    'Numero',\n",
    "    'Bairro',\n",
    "    'Cep',\n",
    "    'idPlanoIXC',\n",
    "    'idVencimentoIXC',\n",
    "    'Login',\n",
    "    'Senha'\n",
    "]\n",
    "\n",
    "# Filtra o DataFrame para manter apenas essas colunas\n",
    "df = df[colunas_para_api]\n"
   ]
  },
  {
   "cell_type": "markdown",
   "metadata": {},
   "source": [
    "### Inserção teste"
   ]
  },
  {
   "cell_type": "code",
   "execution_count": 67,
   "metadata": {},
   "outputs": [],
   "source": [
    "# inserir_contrato(\n",
    "#     tipo=\"I\",\n",
    "#     id_cliente=\"117693\",\n",
    "#     id_vd_contrato=\"6824\",  # Plano do contrato\n",
    "#     id_tipo_contrato=\"5\",  # Id tipo de cobrança\n",
    "#     id_modelo=\"1\",  # Id modelo do contrato\n",
    "#     id_filial=\"35\",\n",
    "#     id_vendedor=\"1\",\n",
    "#     data_base_financeira=\"2024-04-01\",\n",
    "#     contrato=\"IMPORTAÇÃO\",\n",
    "#     id_carteira_cobranca=\"67\",\n",
    "#     cep=\"57160-000\",\n",
    "#     endereco=\"RUA DO TESTE\",\n",
    "#     numero=\"SN\",\n",
    "#     bairro=\"Bairro XPTO\",\n",
    "#     cidade=\"1659\",\n",
    "# )"
   ]
  },
  {
   "cell_type": "markdown",
   "metadata": {},
   "source": [
    "## Inserção do DF"
   ]
  },
  {
   "cell_type": "code",
   "execution_count": 68,
   "metadata": {},
   "outputs": [
    {
     "name": "stdout",
     "output_type": "stream",
     "text": [
      "idClienteIXC       0\n",
      "filial_id          0\n",
      "idCidade           0\n",
      "Endereco           0\n",
      "Numero             0\n",
      "Bairro             0\n",
      "Cep                0\n",
      "idPlanoIXC         0\n",
      "idVencimentoIXC    0\n",
      "Login              0\n",
      "Senha              0\n",
      "dtype: int64\n"
     ]
    },
    {
     "data": {
      "text/html": [
       "<div>\n",
       "<style scoped>\n",
       "    .dataframe tbody tr th:only-of-type {\n",
       "        vertical-align: middle;\n",
       "    }\n",
       "\n",
       "    .dataframe tbody tr th {\n",
       "        vertical-align: top;\n",
       "    }\n",
       "\n",
       "    .dataframe thead th {\n",
       "        text-align: right;\n",
       "    }\n",
       "</style>\n",
       "<table border=\"1\" class=\"dataframe\">\n",
       "  <thead>\n",
       "    <tr style=\"text-align: right;\">\n",
       "      <th></th>\n",
       "      <th>idClienteIXC</th>\n",
       "      <th>filial_id</th>\n",
       "      <th>idCidade</th>\n",
       "      <th>Endereco</th>\n",
       "      <th>Numero</th>\n",
       "      <th>Bairro</th>\n",
       "      <th>Cep</th>\n",
       "      <th>idPlanoIXC</th>\n",
       "      <th>idVencimentoIXC</th>\n",
       "      <th>Login</th>\n",
       "      <th>Senha</th>\n",
       "    </tr>\n",
       "  </thead>\n",
       "  <tbody>\n",
       "    <tr>\n",
       "      <th>0</th>\n",
       "      <td>117696</td>\n",
       "      <td>35</td>\n",
       "      <td>1659</td>\n",
       "      <td>Vila São Sebastião</td>\n",
       "      <td>SN</td>\n",
       "      <td>Centro</td>\n",
       "      <td>57830-000</td>\n",
       "      <td>6824</td>\n",
       "      <td>25</td>\n",
       "      <td>teste1@radios.com</td>\n",
       "      <td>peixoto</td>\n",
       "    </tr>\n",
       "  </tbody>\n",
       "</table>\n",
       "</div>"
      ],
      "text/plain": [
       "  idClienteIXC filial_id idCidade            Endereco Numero  Bairro  \\\n",
       "0       117696        35     1659  Vila São Sebastião     SN  Centro   \n",
       "\n",
       "         Cep idPlanoIXC idVencimentoIXC              Login    Senha  \n",
       "0  57830-000       6824              25  teste1@radios.com  peixoto  "
      ]
     },
     "execution_count": 68,
     "metadata": {},
     "output_type": "execute_result"
    }
   ],
   "source": [
    "# Log para verificação de campo vazio\n",
    "print(df.isnull().sum())\n",
    "df"
   ]
  },
  {
   "cell_type": "markdown",
   "metadata": {},
   "source": [
    "### Adiciona o Nome Plano ao dataframe"
   ]
  },
  {
   "cell_type": "code",
   "execution_count": 69,
   "metadata": {},
   "outputs": [],
   "source": [
    "import os\n",
    "import sys\n",
    "\n",
    "# Carregando pacote que estao fora de /transform\n",
    "path_raiz = os.path.abspath(os.path.join(\"..\", \"..\"))\n",
    "sys.path.append(path_raiz)\n",
    "\n",
    "from config.database_select import executa_query"
   ]
  },
  {
   "cell_type": "markdown",
   "metadata": {},
   "source": [
    "#### Cria função somente para isso"
   ]
  },
  {
   "cell_type": "code",
   "execution_count": 70,
   "metadata": {},
   "outputs": [],
   "source": [
    "# Função para adicionar a coluna 'nomePlano' ao DataFrame\n",
    "def add_nomePlano_to_df(df):\n",
    "    df = df.copy()  # Cria uma cópia do DataFrame para evitar problemas com slicing\n",
    "    nomePlano_list = []\n",
    "    for _, row in df.iterrows():\n",
    "        idPlanoIXC = row['idPlanoIXC']\n",
    "        # Monta a query utilizando o idPlanoIXC da linha\n",
    "        query = f\"\"\"\t\n",
    "        SELECT\n",
    "            vc.nome\n",
    "        FROM\n",
    "            vd_contratos vc \n",
    "        WHERE vc.id = {idPlanoIXC}\n",
    "        \"\"\"\n",
    "        resultado = executa_query(query)\n",
    "        # Caso a query retorne resultados, usamos o primeiro valor\n",
    "        if resultado and len(resultado) > 0:\n",
    "            id_plano = resultado[0][0]\n",
    "        else:\n",
    "            id_plano = None\n",
    "        nomePlano_list.append(id_plano)\n",
    "    \n",
    "    # Cria a nova coluna 'nomePlano' no DataFrame utilizando .loc\n",
    "    df.loc[:, 'nomePlano'] = nomePlano_list\n",
    "    return df\n"
   ]
  },
  {
   "cell_type": "code",
   "execution_count": 71,
   "metadata": {},
   "outputs": [
    {
     "data": {
      "text/html": [
       "<div>\n",
       "<style scoped>\n",
       "    .dataframe tbody tr th:only-of-type {\n",
       "        vertical-align: middle;\n",
       "    }\n",
       "\n",
       "    .dataframe tbody tr th {\n",
       "        vertical-align: top;\n",
       "    }\n",
       "\n",
       "    .dataframe thead th {\n",
       "        text-align: right;\n",
       "    }\n",
       "</style>\n",
       "<table border=\"1\" class=\"dataframe\">\n",
       "  <thead>\n",
       "    <tr style=\"text-align: right;\">\n",
       "      <th></th>\n",
       "      <th>idClienteIXC</th>\n",
       "      <th>filial_id</th>\n",
       "      <th>idCidade</th>\n",
       "      <th>Endereco</th>\n",
       "      <th>Numero</th>\n",
       "      <th>Bairro</th>\n",
       "      <th>Cep</th>\n",
       "      <th>idPlanoIXC</th>\n",
       "      <th>idVencimentoIXC</th>\n",
       "      <th>Login</th>\n",
       "      <th>Senha</th>\n",
       "      <th>nomePlano</th>\n",
       "    </tr>\n",
       "  </thead>\n",
       "  <tbody>\n",
       "    <tr>\n",
       "      <th>0</th>\n",
       "      <td>117696</td>\n",
       "      <td>35</td>\n",
       "      <td>1659</td>\n",
       "      <td>Vila São Sebastião</td>\n",
       "      <td>SN</td>\n",
       "      <td>Centro</td>\n",
       "      <td>57830-000</td>\n",
       "      <td>6824</td>\n",
       "      <td>25</td>\n",
       "      <td>teste1@radios.com</td>\n",
       "      <td>peixoto</td>\n",
       "      <td>100MB_SPEEDY</td>\n",
       "    </tr>\n",
       "  </tbody>\n",
       "</table>\n",
       "</div>"
      ],
      "text/plain": [
       "  idClienteIXC filial_id idCidade            Endereco Numero  Bairro  \\\n",
       "0       117696        35     1659  Vila São Sebastião     SN  Centro   \n",
       "\n",
       "         Cep idPlanoIXC idVencimentoIXC              Login    Senha  \\\n",
       "0  57830-000       6824              25  teste1@radios.com  peixoto   \n",
       "\n",
       "      nomePlano  \n",
       "0  100MB_SPEEDY  "
      ]
     },
     "execution_count": 71,
     "metadata": {},
     "output_type": "execute_result"
    }
   ],
   "source": [
    "df = add_nomePlano_to_df(df)\n",
    "df"
   ]
  },
  {
   "cell_type": "markdown",
   "metadata": {},
   "source": [
    "## Insere Contrato"
   ]
  },
  {
   "cell_type": "code",
   "execution_count": 72,
   "metadata": {},
   "outputs": [
    {
     "name": "stdout",
     "output_type": "stream",
     "text": [
      "200 OK\n",
      "b'{\"type\":\"success\",\"message\":\"Registro inserido com sucesso!\",\"id\":\"154047\",\"atualiza_campos\":[{\"tipo\":\"i\",\"campo\":\"data_desistencia\",\"valor\":\"\"},{\"tipo\":\"s\",\"campo\":\"status\",\"valor\":\"P\"},{\"tipo\":\"i\",\"campo\":\"id_cliente\",\"valor\":\"117696\"},{\"tipo\":\"i\",\"campo\":\"data_ativacao\",\"valor\":\"\"},{\"tipo\":\"d\",\"campo\":\"data_renovacao\",\"valor\":\"\"},{\"tipo\":\"d\",\"campo\":\"nao_avisar_ate\",\"valor\":\"\"},{\"tipo\":\"d\",\"campo\":\"nao_bloquear_ate\",\"valor\":\"\"},{\"tipo\":\"d\",\"campo\":\"data_cancelamento\",\"valor\":\"\"},{\"tipo\":\"d\",\"campo\":\"dt_ult_bloq_manual\",\"valor\":\"\"},{\"tipo\":\"d\",\"campo\":\"data_cadastro_sistema\",\"valor\":\"2025-03-19\"}]}'\n"
     ]
    }
   ],
   "source": [
    "# Crie uma cópia do DataFrame original para evitar o SettingWithCopyWarning\n",
    "df = df.copy()\n",
    "\n",
    "# Crie as colunas adicionais (inicialmente vazias)\n",
    "df.loc[:, \"idContratoIXC\"] = None\n",
    "df.loc[:, \"statusInsercao\"] = None\n",
    "df.loc[:, \"logRetorno\"] = None\n",
    "\n",
    "for idx, row in df.iterrows():\n",
    "    # Mapeamento dos dados do DataFrame para os parâmetros da função inserir_contrato.\n",
    "    # OBSERVAÇÃO: Note que em id_cliente devemos utilizar o valor da coluna \"idClienteIXC\".\n",
    "    # Se esse campo não existir ainda no df, certifique-se de que ele foi criado ou que o df já está enriquecido com o ID do cliente.\n",
    "    id_cliente = row[\"idClienteIXC\"]  # valor vindo da inserção anterior de cliente\n",
    "    id_vd_contrato = row[\"idPlanoIXC\"]  # mapeia para o plano do contrato\n",
    "    id_tipo_contrato = row[\"idVencimentoIXC\"]  # mapeia para o tipo de cobrança (conforme seu DF)\n",
    "    id_filial = row[\"filial_id\"]\n",
    "    cidade = row[\"idCidade\"]\n",
    "    endereco = row[\"Endereco\"]\n",
    "    numero = row[\"Numero\"]\n",
    "    bairro = row[\"Bairro\"]\n",
    "    cep = row[\"Cep\"]\n",
    "    contrato = row[\"nomePlano\"]  # mapeia para o nome do plano\n",
    "\n",
    "    # Parâmetros fixos conforme o exemplo de chamada:\n",
    "    tipo = \"I\"\n",
    "    id_modelo = \"1\"               # Id modelo do contrato (fixo, conforme o exemplo)\n",
    "    id_vendedor = \"1\"             # Id vendedor (fixo, conforme o exemplo)\n",
    "    data_base_financeira = \"01/01/2024\"  # Data base financeira (pode ser fixo ou calculado conforme sua regra)\n",
    "    descricao_aux_plano_venda = \"IMPORTAÇÃO\"       # Tipo de contrato (fixo)\n",
    "    id_carteira_cobranca = \"67\"   # Id da carteira de cobrança (fixo)\n",
    "\n",
    "    # Chamamos a função inserir_contrato com os parâmetros mapeados:\n",
    "    response = inserir_contrato(\n",
    "        tipo=tipo,\n",
    "        id_cliente=id_cliente,\n",
    "        id_vd_contrato=id_vd_contrato,\n",
    "        id_tipo_contrato=id_tipo_contrato,\n",
    "        id_modelo=id_modelo,\n",
    "        id_filial=id_filial,\n",
    "        id_vendedor=id_vendedor,\n",
    "        data_base_financeira=data_base_financeira,\n",
    "        contrato=contrato,\n",
    "        descricao_aux_plano_venda=descricao_aux_plano_venda,\n",
    "        id_carteira_cobranca=id_carteira_cobranca,\n",
    "        cep=cep,\n",
    "        endereco=endereco,\n",
    "        numero=numero,\n",
    "        bairro=bairro,\n",
    "        cidade=cidade,\n",
    "    )\n",
    "\n",
    "    status_code = response.status_code\n",
    "    content = response.content  # bytes\n",
    "\n",
    "    # Fazemos parse do JSON retornado:\n",
    "    json_resp = json.loads(content.decode(\"utf-8\", errors=\"replace\"))\n",
    "\n",
    "    if status_code == 200 and json_resp.get(\"type\") == \"success\":\n",
    "        # Sucesso: capturamos o \"id\" do contrato inserido\n",
    "        contrato_id = json_resp.get(\"id\")  # Exemplo: \"154036\"\n",
    "        df.at[idx, \"idContratoIXC\"] = contrato_id\n",
    "        df.at[idx, \"statusInsercao\"] = \"sucesso\"\n",
    "        # Em caso de sucesso, o log pode armazenar o JSON completo ou ser deixado vazio\n",
    "        df.at[idx, \"logRetorno\"] = json_resp\n",
    "    else:\n",
    "        # Em caso de falha: registra os logs e garante que idContratoIXC fique como None\n",
    "        df.at[idx, \"idContratoIXC\"] = None\n",
    "        df.at[idx, \"statusInsercao\"] = \"falha\"\n",
    "        df.at[idx, \"logRetorno\"] = json_resp\n"
   ]
  },
  {
   "cell_type": "markdown",
   "metadata": {},
   "source": [
    "### Retorno"
   ]
  },
  {
   "cell_type": "code",
   "execution_count": 73,
   "metadata": {},
   "outputs": [],
   "source": [
    "df.to_excel(source_output)"
   ]
  },
  {
   "cell_type": "code",
   "execution_count": 74,
   "metadata": {},
   "outputs": [
    {
     "data": {
      "text/html": [
       "<div>\n",
       "<style scoped>\n",
       "    .dataframe tbody tr th:only-of-type {\n",
       "        vertical-align: middle;\n",
       "    }\n",
       "\n",
       "    .dataframe tbody tr th {\n",
       "        vertical-align: top;\n",
       "    }\n",
       "\n",
       "    .dataframe thead th {\n",
       "        text-align: right;\n",
       "    }\n",
       "</style>\n",
       "<table border=\"1\" class=\"dataframe\">\n",
       "  <thead>\n",
       "    <tr style=\"text-align: right;\">\n",
       "      <th></th>\n",
       "      <th>idClienteIXC</th>\n",
       "      <th>filial_id</th>\n",
       "      <th>idCidade</th>\n",
       "      <th>Endereco</th>\n",
       "      <th>Numero</th>\n",
       "      <th>Bairro</th>\n",
       "      <th>Cep</th>\n",
       "      <th>idPlanoIXC</th>\n",
       "      <th>idVencimentoIXC</th>\n",
       "      <th>Login</th>\n",
       "      <th>Senha</th>\n",
       "      <th>nomePlano</th>\n",
       "      <th>idContratoIXC</th>\n",
       "      <th>statusInsercao</th>\n",
       "      <th>logRetorno</th>\n",
       "    </tr>\n",
       "  </thead>\n",
       "  <tbody>\n",
       "    <tr>\n",
       "      <th>0</th>\n",
       "      <td>117696</td>\n",
       "      <td>35</td>\n",
       "      <td>1659</td>\n",
       "      <td>Vila São Sebastião</td>\n",
       "      <td>SN</td>\n",
       "      <td>Centro</td>\n",
       "      <td>57830-000</td>\n",
       "      <td>6824</td>\n",
       "      <td>25</td>\n",
       "      <td>teste1@radios.com</td>\n",
       "      <td>peixoto</td>\n",
       "      <td>100MB_SPEEDY</td>\n",
       "      <td>154047</td>\n",
       "      <td>sucesso</td>\n",
       "      <td>{'type': 'success', 'message': 'Registro inser...</td>\n",
       "    </tr>\n",
       "  </tbody>\n",
       "</table>\n",
       "</div>"
      ],
      "text/plain": [
       "  idClienteIXC filial_id idCidade            Endereco Numero  Bairro  \\\n",
       "0       117696        35     1659  Vila São Sebastião     SN  Centro   \n",
       "\n",
       "         Cep idPlanoIXC idVencimentoIXC              Login    Senha  \\\n",
       "0  57830-000       6824              25  teste1@radios.com  peixoto   \n",
       "\n",
       "      nomePlano idContratoIXC statusInsercao  \\\n",
       "0  100MB_SPEEDY        154047        sucesso   \n",
       "\n",
       "                                          logRetorno  \n",
       "0  {'type': 'success', 'message': 'Registro inser...  "
      ]
     },
     "execution_count": 74,
     "metadata": {},
     "output_type": "execute_result"
    }
   ],
   "source": [
    "df"
   ]
  }
 ],
 "metadata": {
  "kernelspec": {
   "display_name": "Python 3",
   "language": "python",
   "name": "python3"
  },
  "language_info": {
   "codemirror_mode": {
    "name": "ipython",
    "version": 3
   },
   "file_extension": ".py",
   "mimetype": "text/x-python",
   "name": "python",
   "nbconvert_exporter": "python",
   "pygments_lexer": "ipython3",
   "version": "3.13.0"
  }
 },
 "nbformat": 4,
 "nbformat_minor": 2
}
