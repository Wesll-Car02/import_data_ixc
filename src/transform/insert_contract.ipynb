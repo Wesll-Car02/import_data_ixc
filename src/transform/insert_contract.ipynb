{
 "cells": [
  {
   "cell_type": "markdown",
   "metadata": {},
   "source": [
    "# Responsável por tratar os dados pertinente a cliente"
   ]
  },
  {
   "cell_type": "markdown",
   "metadata": {},
   "source": [
    "## Importando bibliotecas"
   ]
  },
  {
   "cell_type": "code",
   "execution_count": 1,
   "metadata": {},
   "outputs": [],
   "source": [
    "import sys, os\n",
    "\n",
    "# Carregando pacote que estao fora de /transform\n",
    "path_raiz = os.path.abspath(os.path.join(\"..\", \"..\"))\n",
    "sys.path.append(path_raiz)"
   ]
  },
  {
   "cell_type": "code",
   "execution_count": 2,
   "metadata": {},
   "outputs": [
    {
     "name": "stdout",
     "output_type": "stream",
     "text": [
      "Ambiente: test\n"
     ]
    }
   ],
   "source": [
    "import pandas as pd\n",
    "from src.utils import carregar_tabela_excel\n",
    "from src.insert.insert_contract import inserir_contrato\n",
    "import json\n",
    "import datetime"
   ]
  },
  {
   "cell_type": "markdown",
   "metadata": {},
   "source": [
    "## Importando e tratando os dados"
   ]
  },
  {
   "cell_type": "code",
   "execution_count": 3,
   "metadata": {},
   "outputs": [
    {
     "data": {
      "text/plain": [
       "'20241226_130917'"
      ]
     },
     "execution_count": 3,
     "metadata": {},
     "output_type": "execute_result"
    }
   ],
   "source": [
    "# Obter a data e hora atual\n",
    "now = datetime.datetime.now()\n",
    "\n",
    "# Formatar a data e hora como 'YYYYMMDD_HHMMSS'\n",
    "timestamp = now.strftime(\"%Y%m%d_%H%M%S\")\n",
    "timestamp"
   ]
  },
  {
   "cell_type": "code",
   "execution_count": 4,
   "metadata": {},
   "outputs": [],
   "source": [
    "source_input = \"../../data/baseTesteIXC_Transform.xlsx\"\n",
    "source_output = f\"../../src/inserted/cliente_insert_{timestamp}.xlsx\""
   ]
  },
  {
   "cell_type": "code",
   "execution_count": 5,
   "metadata": {},
   "outputs": [],
   "source": [
    "# Carregar o DataFrame com as colunas especificadas como strings\n",
    "df = pd.read_excel(source_input, dtype=str).fillna(\"\")"
   ]
  },
  {
   "cell_type": "code",
   "execution_count": 6,
   "metadata": {},
   "outputs": [],
   "source": [
    "# Lista das colunas que fazem sentido enviar para a API\n",
    "colunas_para_api = [\n",
    "    'razaoSocial',\n",
    "    'Email',\n",
    "    'Celular',\n",
    "    'cpf_cnpj',\n",
    "    'rg_ie',\n",
    "    'filial_id',\n",
    "    'idCidade',\n",
    "    'Endereco',\n",
    "    'Complemento',\n",
    "    'Numero',\n",
    "    'Bairro',\n",
    "    'Cep',\n",
    "]\n",
    "\n",
    "# Filtra o DataFrame para manter apenas essas colunas\n",
    "df = df[colunas_para_api]\n"
   ]
  },
  {
   "cell_type": "markdown",
   "metadata": {},
   "source": [
    "### Inserção teste"
   ]
  },
  {
   "cell_type": "code",
   "execution_count": 7,
   "metadata": {},
   "outputs": [
    {
     "ename": "TypeError",
     "evalue": "inserir_contrato() got an unexpected keyword argument 'cep'",
     "output_type": "error",
     "traceback": [
      "\u001b[1;31m---------------------------------------------------------------------------\u001b[0m",
      "\u001b[1;31mTypeError\u001b[0m                                 Traceback (most recent call last)",
      "Cell \u001b[1;32mIn[7], line 1\u001b[0m\n\u001b[1;32m----> 1\u001b[0m \u001b[43minserir_contrato\u001b[49m\u001b[43m(\u001b[49m\n\u001b[0;32m      2\u001b[0m \u001b[43m    \u001b[49m\u001b[38;5;66;43;03m#tipo=\"I\",\u001b[39;49;00m\n\u001b[0;32m      3\u001b[0m \u001b[43m    \u001b[49m\u001b[43mid_cliente\u001b[49m\u001b[38;5;241;43m=\u001b[39;49m\u001b[38;5;124;43m\"\u001b[39;49m\u001b[38;5;124;43m117641\u001b[39;49m\u001b[38;5;124;43m\"\u001b[39;49m\u001b[43m,\u001b[49m\n\u001b[0;32m      4\u001b[0m \u001b[43m    \u001b[49m\u001b[43mid_vd_contrato\u001b[49m\u001b[38;5;241;43m=\u001b[39;49m\u001b[38;5;124;43m\"\u001b[39;49m\u001b[38;5;124;43m6824\u001b[39;49m\u001b[38;5;124;43m\"\u001b[39;49m\u001b[43m,\u001b[49m\u001b[43m  \u001b[49m\u001b[38;5;66;43;03m# Plano do contrato\u001b[39;49;00m\n\u001b[0;32m      5\u001b[0m \u001b[43m    \u001b[49m\u001b[43mid_tipo_contrato\u001b[49m\u001b[38;5;241;43m=\u001b[39;49m\u001b[38;5;124;43m\"\u001b[39;49m\u001b[38;5;124;43m5\u001b[39;49m\u001b[38;5;124;43m\"\u001b[39;49m\u001b[43m,\u001b[49m\u001b[43m  \u001b[49m\u001b[38;5;66;43;03m# Id tipo de cobrança\u001b[39;49;00m\n\u001b[0;32m      6\u001b[0m \u001b[43m    \u001b[49m\u001b[43mid_modelo\u001b[49m\u001b[38;5;241;43m=\u001b[39;49m\u001b[38;5;124;43m\"\u001b[39;49m\u001b[38;5;124;43m179\u001b[39;49m\u001b[38;5;124;43m\"\u001b[39;49m\u001b[43m,\u001b[49m\u001b[43m  \u001b[49m\u001b[38;5;66;43;03m# Id modelo do contrato\u001b[39;49;00m\n\u001b[0;32m      7\u001b[0m \u001b[43m    \u001b[49m\u001b[43mid_filial\u001b[49m\u001b[38;5;241;43m=\u001b[39;49m\u001b[38;5;124;43m\"\u001b[39;49m\u001b[38;5;124;43m35\u001b[39;49m\u001b[38;5;124;43m\"\u001b[39;49m\u001b[43m,\u001b[49m\n\u001b[0;32m      8\u001b[0m \u001b[43m    \u001b[49m\u001b[43mid_vendedor\u001b[49m\u001b[38;5;241;43m=\u001b[39;49m\u001b[38;5;124;43m\"\u001b[39;49m\u001b[38;5;124;43m1\u001b[39;49m\u001b[38;5;124;43m\"\u001b[39;49m\u001b[43m,\u001b[49m\n\u001b[0;32m      9\u001b[0m \u001b[43m    \u001b[49m\u001b[43mdata_base_financeira\u001b[49m\u001b[38;5;241;43m=\u001b[39;49m\u001b[38;5;124;43m\"\u001b[39;49m\u001b[38;5;124;43m2024-04-01\u001b[39;49m\u001b[38;5;124;43m\"\u001b[39;49m\u001b[43m,\u001b[49m\n\u001b[0;32m     10\u001b[0m \u001b[43m    \u001b[49m\u001b[43mcontrato\u001b[49m\u001b[38;5;241;43m=\u001b[39;49m\u001b[38;5;124;43m\"\u001b[39;49m\u001b[38;5;124;43mIMPORTAÇÃO\u001b[39;49m\u001b[38;5;124;43m\"\u001b[39;49m\u001b[43m,\u001b[49m\n\u001b[0;32m     11\u001b[0m \u001b[43m    \u001b[49m\u001b[43mid_carteira_cobranca\u001b[49m\u001b[38;5;241;43m=\u001b[39;49m\u001b[38;5;124;43m\"\u001b[39;49m\u001b[38;5;124;43m67\u001b[39;49m\u001b[38;5;124;43m\"\u001b[39;49m\u001b[43m,\u001b[49m\n\u001b[0;32m     12\u001b[0m \u001b[43m    \u001b[49m\u001b[43mcep\u001b[49m\u001b[38;5;241;43m=\u001b[39;49m\u001b[38;5;124;43m\"\u001b[39;49m\u001b[38;5;124;43m57160-000\u001b[39;49m\u001b[38;5;124;43m\"\u001b[39;49m\n\u001b[0;32m     13\u001b[0m \u001b[43m)\u001b[49m\n",
      "\u001b[1;31mTypeError\u001b[0m: inserir_contrato() got an unexpected keyword argument 'cep'"
     ]
    }
   ],
   "source": [
    "inserir_contrato(\n",
    "    #tipo=\"I\",\n",
    "    id_cliente=\"117641\",\n",
    "    id_vd_contrato=\"6824\",  # Plano do contrato\n",
    "    id_tipo_contrato=\"5\",  # Id tipo de cobrança\n",
    "    id_modelo=\"179\",  # Id modelo do contrato\n",
    "    id_filial=\"35\",\n",
    "    id_vendedor=\"1\",\n",
    "    data_base_financeira=\"2024-04-01\",\n",
    "    contrato=\"IMPORTAÇÃO\",\n",
    "    id_carteira_cobranca=\"67\",\n",
    "    cep=\"57160-000\"\n",
    ")"
   ]
  },
  {
   "cell_type": "markdown",
   "metadata": {},
   "source": [
    "## Inserção do DF"
   ]
  },
  {
   "cell_type": "code",
   "execution_count": 8,
   "metadata": {},
   "outputs": [],
   "source": [
    "# Limitando o DF\n",
    "df = df.head(10)"
   ]
  },
  {
   "cell_type": "code",
   "execution_count": 9,
   "metadata": {},
   "outputs": [
    {
     "name": "stdout",
     "output_type": "stream",
     "text": [
      "razaoSocial    0\n",
      "Email          0\n",
      "Celular        0\n",
      "cpf_cnpj       0\n",
      "rg_ie          0\n",
      "filial_id      0\n",
      "idCidade       0\n",
      "Endereco       0\n",
      "Complemento    0\n",
      "Numero         0\n",
      "Bairro         0\n",
      "Cep            0\n",
      "dtype: int64\n"
     ]
    }
   ],
   "source": [
    "# Log para verificação de campo vazio\n",
    "print(df.isnull().sum())"
   ]
  },
  {
   "cell_type": "code",
   "execution_count": 10,
   "metadata": {},
   "outputs": [
    {
     "name": "stderr",
     "output_type": "stream",
     "text": [
      "\n",
      "KeyboardInterrupt\n",
      "\n"
     ]
    }
   ],
   "source": [
    "# Crie uma cópia do DataFrame original para evitar o SettingWithCopyWarning\n",
    "df = df.copy()\n",
    "\n",
    "# Crie as colunas adicionais (inicialmente vazias)\n",
    "df.loc[:, \"idClienteIXC\"] = None\n",
    "df.loc[:, \"statusInsercao\"] = None\n",
    "df.loc[:, \"logRetorno\"] = None\n",
    "\n",
    "for idx, row in df.iterrows():\n",
    "    # Mapeamos as colunas do DF para os parâmetros da função inserir_cliente.\n",
    "    razao = row[\"razaoSocial\"]\n",
    "    email = row[\"Email\"]\n",
    "    celular = row[\"Celular\"]\n",
    "    cnpj_cpf = row[\"cpf_cnpj\"]\n",
    "    rg_ie = row[\"rg_ie\"]\n",
    "    filial = row[\"filial_id\"]\n",
    "    cidade = row[\"idCidade\"] \n",
    "    endereco = row[\"Endereco\"]\n",
    "    complemento = row[\"Complemento\"] if pd.notnull(row[\"Complemento\"]) else \"\"\n",
    "    numero = row[\"Numero\"]\n",
    "    bairro = row[\"Bairro\"]\n",
    "    cep = row[\"Cep\"]\n",
    "    \n",
    "    # Chamamos a função inserir_cliente:\n",
    "    response = inserir_cliente(\n",
    "        razao=razao,\n",
    "        cnpj_cpf=cnpj_cpf,\n",
    "        cep=cep,\n",
    "        endereco=endereco,\n",
    "        numero=numero,\n",
    "        complemento=complemento,\n",
    "        bairro=bairro,\n",
    "        cidade=cidade,\n",
    "        filial_id=filial,\n",
    "        telefone_celular=celular,\n",
    "        email=email,\n",
    "        ie_identidade=rg_ie,\n",
    "        # Se você quiser passar outros campos com valores-padrão, inclua aqui\n",
    "        # Ex.: uf=\"AL\" etc.\n",
    "    )\n",
    "    \n",
    "    status_code = response.status_code\n",
    "    content = response.content  # bytes\n",
    "\n",
    "    # Fazemos parse do JSON:\n",
    "    # b'{\"type\":\"success\",\"message\":\"Registro inserido com sucesso!\",\"id\":\"117580\", ...}'\n",
    "    json_resp = json.loads(content.decode(\"utf-8\", errors=\"replace\"))\n",
    "\n",
    "    if status_code == 200 and json_resp.get(\"type\") == \"success\":\n",
    "        # Sucesso: capturamos o \"id\"\n",
    "        client_id = json_resp.get(\"id\")  # Exemplo: \"117580\"\n",
    "        \n",
    "        df.at[idx, \"idClienteIXC\"] = client_id\n",
    "        df.at[idx, \"statusInsercao\"] = \"sucesso\"\n",
    "        # logRetorno pode ficar vazio ou None em caso de sucesso\n",
    "        df.at[idx, \"logRetorno\"] = json_resp\n",
    "    else:\n",
    "        # Falha: salvamos o log completo\n",
    "        df.at[idx, \"idClienteIXC\"] = None\n",
    "        df.at[idx, \"statusInsercao\"] = \"falha\"\n",
    "        # Guardamos o JSON completo (ou a chave \"message\", se preferir):\n",
    "        df.at[idx, \"logRetorno\"] = json_resp"
   ]
  },
  {
   "cell_type": "markdown",
   "metadata": {},
   "source": [
    "### Retorno"
   ]
  },
  {
   "cell_type": "code",
   "execution_count": 110,
   "metadata": {},
   "outputs": [],
   "source": [
    "df.to_excel(source_output)"
   ]
  },
  {
   "cell_type": "code",
   "execution_count": 111,
   "metadata": {},
   "outputs": [
    {
     "data": {
      "text/html": [
       "<div>\n",
       "<style scoped>\n",
       "    .dataframe tbody tr th:only-of-type {\n",
       "        vertical-align: middle;\n",
       "    }\n",
       "\n",
       "    .dataframe tbody tr th {\n",
       "        vertical-align: top;\n",
       "    }\n",
       "\n",
       "    .dataframe thead th {\n",
       "        text-align: right;\n",
       "    }\n",
       "</style>\n",
       "<table border=\"1\" class=\"dataframe\">\n",
       "  <thead>\n",
       "    <tr style=\"text-align: right;\">\n",
       "      <th></th>\n",
       "      <th>razaoSocial</th>\n",
       "      <th>Email</th>\n",
       "      <th>Celular</th>\n",
       "      <th>cpf_cnpj</th>\n",
       "      <th>rg_ie</th>\n",
       "      <th>filial_id</th>\n",
       "      <th>idCidade</th>\n",
       "      <th>Endereco</th>\n",
       "      <th>Complemento</th>\n",
       "      <th>Numero</th>\n",
       "      <th>Bairro</th>\n",
       "      <th>Cep</th>\n",
       "      <th>idClienteIXC</th>\n",
       "      <th>statusInsercao</th>\n",
       "      <th>logRetorno</th>\n",
       "    </tr>\n",
       "  </thead>\n",
       "  <tbody>\n",
       "    <tr>\n",
       "      <th>0</th>\n",
       "      <td>Abelanio Veríssimo Peixoto</td>\n",
       "      <td>teste@gmail.com</td>\n",
       "      <td>99999999999</td>\n",
       "      <td>685.796.740-77</td>\n",
       "      <td>Isento</td>\n",
       "      <td>35</td>\n",
       "      <td>1659</td>\n",
       "      <td>Vila São Sebastião</td>\n",
       "      <td>Próximo ao cacimbão</td>\n",
       "      <td>0</td>\n",
       "      <td>Centro</td>\n",
       "      <td>57830-000</td>\n",
       "      <td>117636</td>\n",
       "      <td>sucesso</td>\n",
       "      <td>{'type': 'success', 'message': 'Registro inser...</td>\n",
       "    </tr>\n",
       "    <tr>\n",
       "      <th>1</th>\n",
       "      <td>Aclecia da Silva</td>\n",
       "      <td>teste@gmail.com</td>\n",
       "      <td>99999999999</td>\n",
       "      <td>281.742.620-75</td>\n",
       "      <td>30234875</td>\n",
       "      <td>35</td>\n",
       "      <td>1659</td>\n",
       "      <td>Maria de Lurdes</td>\n",
       "      <td>Próximo ao mirante</td>\n",
       "      <td>SN</td>\n",
       "      <td>Centro</td>\n",
       "      <td>57830-000</td>\n",
       "      <td>117637</td>\n",
       "      <td>sucesso</td>\n",
       "      <td>{'type': 'success', 'message': 'Registro inser...</td>\n",
       "    </tr>\n",
       "    <tr>\n",
       "      <th>2</th>\n",
       "      <td>Adeilton da Mata</td>\n",
       "      <td>teste@gmail.com</td>\n",
       "      <td>99999999999</td>\n",
       "      <td>673.248.950-00</td>\n",
       "      <td>40259595</td>\n",
       "      <td>35</td>\n",
       "      <td>1659</td>\n",
       "      <td>Ass. Nova Esperança</td>\n",
       "      <td>próximo a casa de farinha</td>\n",
       "      <td>SN</td>\n",
       "      <td>Zona Rural</td>\n",
       "      <td>57830-000</td>\n",
       "      <td>117638</td>\n",
       "      <td>sucesso</td>\n",
       "      <td>{'type': 'success', 'message': 'Registro inser...</td>\n",
       "    </tr>\n",
       "    <tr>\n",
       "      <th>3</th>\n",
       "      <td>Adeilton da Silva</td>\n",
       "      <td>teste@gmail.com</td>\n",
       "      <td>99999999999</td>\n",
       "      <td>108.151.210-59</td>\n",
       "      <td>3614522-0</td>\n",
       "      <td>35</td>\n",
       "      <td>1659</td>\n",
       "      <td>Gravatá</td>\n",
       "      <td>Lote do Sr. Del</td>\n",
       "      <td>SN</td>\n",
       "      <td>Zona Rural</td>\n",
       "      <td>57830-000</td>\n",
       "      <td>117639</td>\n",
       "      <td>sucesso</td>\n",
       "      <td>{'type': 'success', 'message': 'Registro inser...</td>\n",
       "    </tr>\n",
       "    <tr>\n",
       "      <th>4</th>\n",
       "      <td>Adeilton Teixeira de Lima</td>\n",
       "      <td>teste@gmail.com</td>\n",
       "      <td>99999999999</td>\n",
       "      <td>976.069.770-03</td>\n",
       "      <td>36145220</td>\n",
       "      <td>35</td>\n",
       "      <td>1659</td>\n",
       "      <td>João Lyra / Qd: A</td>\n",
       "      <td></td>\n",
       "      <td>24</td>\n",
       "      <td>Conj. Raimundo Nonato Lopes</td>\n",
       "      <td>57830-000</td>\n",
       "      <td>117640</td>\n",
       "      <td>sucesso</td>\n",
       "      <td>{'type': 'success', 'message': 'Registro inser...</td>\n",
       "    </tr>\n",
       "    <tr>\n",
       "      <th>5</th>\n",
       "      <td>Adelmo Luiz Berto De Oliveira</td>\n",
       "      <td>teste@gmail.com</td>\n",
       "      <td>99999999999</td>\n",
       "      <td>660.107.170-60</td>\n",
       "      <td>ISENTO</td>\n",
       "      <td>35</td>\n",
       "      <td>1659</td>\n",
       "      <td>Rua: Manoel Luiz da Silva</td>\n",
       "      <td>Próximo ao Mirante</td>\n",
       "      <td>SN</td>\n",
       "      <td>Centro</td>\n",
       "      <td>57830-000</td>\n",
       "      <td>117641</td>\n",
       "      <td>sucesso</td>\n",
       "      <td>{'type': 'success', 'message': 'Registro inser...</td>\n",
       "    </tr>\n",
       "    <tr>\n",
       "      <th>6</th>\n",
       "      <td>Ademar Manoel da Silva</td>\n",
       "      <td>teste@gmail.com</td>\n",
       "      <td>99999999999</td>\n",
       "      <td>52.459.301/0001-81</td>\n",
       "      <td>30972841</td>\n",
       "      <td>35</td>\n",
       "      <td>1659</td>\n",
       "      <td>Ass.: Flor do Mundaú</td>\n",
       "      <td></td>\n",
       "      <td>SN</td>\n",
       "      <td>Zona Rural</td>\n",
       "      <td>57830-000</td>\n",
       "      <td>117642</td>\n",
       "      <td>sucesso</td>\n",
       "      <td>{'type': 'success', 'message': 'Registro inser...</td>\n",
       "    </tr>\n",
       "    <tr>\n",
       "      <th>7</th>\n",
       "      <td>Adriana Paulino da Silva</td>\n",
       "      <td>teste@gmail.com</td>\n",
       "      <td>99999999999</td>\n",
       "      <td>54.404.537/0001-46</td>\n",
       "      <td>ISENTO</td>\n",
       "      <td>35</td>\n",
       "      <td>1659</td>\n",
       "      <td>Platô 1/ Q: 02</td>\n",
       "      <td></td>\n",
       "      <td>06</td>\n",
       "      <td>Conj. Raimundo Nonato Lopes</td>\n",
       "      <td>57830-000</td>\n",
       "      <td>117643</td>\n",
       "      <td>sucesso</td>\n",
       "      <td>{'type': 'success', 'message': 'Registro inser...</td>\n",
       "    </tr>\n",
       "  </tbody>\n",
       "</table>\n",
       "</div>"
      ],
      "text/plain": [
       "                     razaoSocial            Email      Celular  \\\n",
       "0     Abelanio Veríssimo Peixoto  teste@gmail.com  99999999999   \n",
       "1               Aclecia da Silva  teste@gmail.com  99999999999   \n",
       "2               Adeilton da Mata  teste@gmail.com  99999999999   \n",
       "3              Adeilton da Silva  teste@gmail.com  99999999999   \n",
       "4      Adeilton Teixeira de Lima  teste@gmail.com  99999999999   \n",
       "5  Adelmo Luiz Berto De Oliveira  teste@gmail.com  99999999999   \n",
       "6         Ademar Manoel da Silva  teste@gmail.com  99999999999   \n",
       "7       Adriana Paulino da Silva  teste@gmail.com  99999999999   \n",
       "\n",
       "             cpf_cnpj      rg_ie filial_id idCidade  \\\n",
       "0      685.796.740-77     Isento        35     1659   \n",
       "1      281.742.620-75   30234875        35     1659   \n",
       "2      673.248.950-00   40259595        35     1659   \n",
       "3      108.151.210-59  3614522-0        35     1659   \n",
       "4      976.069.770-03   36145220        35     1659   \n",
       "5      660.107.170-60     ISENTO        35     1659   \n",
       "6  52.459.301/0001-81   30972841        35     1659   \n",
       "7  54.404.537/0001-46     ISENTO        35     1659   \n",
       "\n",
       "                    Endereco                Complemento Numero  \\\n",
       "0         Vila São Sebastião        Próximo ao cacimbão      0   \n",
       "1            Maria de Lurdes         Próximo ao mirante     SN   \n",
       "2        Ass. Nova Esperança  próximo a casa de farinha     SN   \n",
       "3                    Gravatá            Lote do Sr. Del     SN   \n",
       "4          João Lyra / Qd: A                                24   \n",
       "5  Rua: Manoel Luiz da Silva         Próximo ao Mirante     SN   \n",
       "6       Ass.: Flor do Mundaú                                SN   \n",
       "7             Platô 1/ Q: 02                                06   \n",
       "\n",
       "                        Bairro        Cep idClienteIXC statusInsercao  \\\n",
       "0                       Centro  57830-000       117636        sucesso   \n",
       "1                       Centro  57830-000       117637        sucesso   \n",
       "2                   Zona Rural  57830-000       117638        sucesso   \n",
       "3                   Zona Rural  57830-000       117639        sucesso   \n",
       "4  Conj. Raimundo Nonato Lopes  57830-000       117640        sucesso   \n",
       "5                       Centro  57830-000       117641        sucesso   \n",
       "6                   Zona Rural  57830-000       117642        sucesso   \n",
       "7  Conj. Raimundo Nonato Lopes  57830-000       117643        sucesso   \n",
       "\n",
       "                                          logRetorno  \n",
       "0  {'type': 'success', 'message': 'Registro inser...  \n",
       "1  {'type': 'success', 'message': 'Registro inser...  \n",
       "2  {'type': 'success', 'message': 'Registro inser...  \n",
       "3  {'type': 'success', 'message': 'Registro inser...  \n",
       "4  {'type': 'success', 'message': 'Registro inser...  \n",
       "5  {'type': 'success', 'message': 'Registro inser...  \n",
       "6  {'type': 'success', 'message': 'Registro inser...  \n",
       "7  {'type': 'success', 'message': 'Registro inser...  "
      ]
     },
     "execution_count": 111,
     "metadata": {},
     "output_type": "execute_result"
    }
   ],
   "source": [
    "df"
   ]
  }
 ],
 "metadata": {
  "kernelspec": {
   "display_name": "Python 3",
   "language": "python",
   "name": "python3"
  },
  "language_info": {
   "codemirror_mode": {
    "name": "ipython",
    "version": 3
   },
   "file_extension": ".py",
   "mimetype": "text/x-python",
   "name": "python",
   "nbconvert_exporter": "python",
   "pygments_lexer": "ipython3",
   "version": "3.11.9"
  }
 },
 "nbformat": 4,
 "nbformat_minor": 2
}
