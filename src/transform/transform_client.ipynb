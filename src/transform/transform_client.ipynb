{
 "cells": [
  {
   "cell_type": "markdown",
   "metadata": {},
   "source": [
    "# Responsável por tratar os dados pertinente a cliente"
   ]
  },
  {
   "cell_type": "markdown",
   "metadata": {},
   "source": [
    "## Importando bibliotecas"
   ]
  },
  {
   "cell_type": "code",
   "execution_count": 11,
   "metadata": {},
   "outputs": [],
   "source": [
    "import sys, os\n",
    "\n",
    "# Carregando pacote que estao fora de /transform\n",
    "path_raiz = os.path.abspath(os.path.join(\"..\", \"..\"))\n",
    "sys.path.append(path_raiz)"
   ]
  },
  {
   "cell_type": "code",
   "execution_count": 12,
   "metadata": {},
   "outputs": [],
   "source": [
    "import pandas as pd\n",
    "from src.utils import carregar_tabela_excel\n",
    "from src.insert_client.insert_client import inserir_cliente\n",
    "import json"
   ]
  },
  {
   "cell_type": "markdown",
   "metadata": {},
   "source": [
    "## Importando e tratando os dados"
   ]
  },
  {
   "cell_type": "code",
   "execution_count": 13,
   "metadata": {},
   "outputs": [],
   "source": [
    "source = \"../../data/baseTesteIXC.xlsx\"\n",
    "df = carregar_tabela_excel(source)"
   ]
  },
  {
   "cell_type": "code",
   "execution_count": 14,
   "metadata": {},
   "outputs": [],
   "source": [
    "# Lista das colunas que fazem sentido enviar para a API\n",
    "colunas_para_api = [\n",
    "    'razaoSocial',\n",
    "    'Email',\n",
    "    'Celular',\n",
    "    'cpf_cnpj',\n",
    "    'rg_ie',\n",
    "    'idCidade',\n",
    "    'Endereco',\n",
    "    'Complemento',\n",
    "    'Numero',\n",
    "    'Bairro',\n",
    "    'Cep',\n",
    "]\n",
    "\n",
    "# Filtra o DataFrame para manter apenas essas colunas\n",
    "df = df[colunas_para_api]\n"
   ]
  },
  {
   "cell_type": "markdown",
   "metadata": {},
   "source": [
    "### Tratando CPF_CNPJ e Removendo Duplicados"
   ]
  },
  {
   "cell_type": "code",
   "execution_count": 15,
   "metadata": {},
   "outputs": [],
   "source": [
    "# Garante que a coluna seja interpretada como string\n",
    "df[\"cpf_cnpj\"] = df[\"cpf_cnpj\"].astype(str)\n",
    "\n",
    "# Remove os caracteres '.', '-', '/' usando expressão regular\n",
    "df[\"cpf_cnpj\"] = df[\"cpf_cnpj\"].str.replace(r\"[./-]\", \"\", regex=True)\n",
    "\n",
    "# Remove duplicados do CPF tratando como um unico cliente\n",
    "df = df.drop_duplicates(subset=[\"cpf_cnpj\"], keep=\"first\")"
   ]
  },
  {
   "cell_type": "markdown",
   "metadata": {},
   "source": [
    "### Tratando numero de Celular"
   ]
  },
  {
   "cell_type": "code",
   "execution_count": 16,
   "metadata": {},
   "outputs": [],
   "source": [
    "# Converte a coluna Celular em string\n",
    "df[\"Celular\"] = df[\"Celular\"].astype(str)\n",
    "\n",
    "# Remove os caracteres '(', ')' e '-' usando expressão regular\n",
    "df[\"Celular\"] = df[\"Celular\"].str.replace(r\"[()\\-]\", \"\", regex=True)\n",
    "\n",
    "# Substitui valores 'nan' ou string vazia por '99999999999'\n",
    "df[\"Celular\"] = df[\"Celular\"].replace([\"nan\", \"\"], \"99999999999\")"
   ]
  },
  {
   "cell_type": "markdown",
   "metadata": {},
   "source": [
    "### Tratando rg_ie"
   ]
  },
  {
   "cell_type": "code",
   "execution_count": 17,
   "metadata": {},
   "outputs": [],
   "source": [
    "## Substitui NaN por vazio no campo rg_ie\n",
    "df[\"rg_ie\"] = df[\"rg_ie\"].fillna(\"\")"
   ]
  },
  {
   "cell_type": "markdown",
   "metadata": {},
   "source": [
    "### Tratando Complemento e Número "
   ]
  },
  {
   "cell_type": "code",
   "execution_count": 18,
   "metadata": {},
   "outputs": [
    {
     "data": {
      "text/plain": [
       "Index(['razaoSocial', 'Email', 'Celular', 'cpf_cnpj', 'rg_ie', 'idCidade',\n",
       "       'Endereco', 'Complemento', 'Numero', 'Bairro', 'Cep'],\n",
       "      dtype='object')"
      ]
     },
     "execution_count": 18,
     "metadata": {},
     "output_type": "execute_result"
    }
   ],
   "source": [
    "## Substitui NaN por vazio no campo Complemento\n",
    "df[\"Complemento\"] = df[\"Complemento\"].fillna(\"\")\n",
    "\n",
    "\n",
    "## Tratando número da casa\n",
    "import re\n",
    "\n",
    "def tratar_numero(valor):\n",
    "    # Converte para string\n",
    "    texto = str(valor)\n",
    "\n",
    "    # Captura todos os dígitos (0-9) presentes no texto\n",
    "    digits = re.findall(r\"\\d+\", texto)\n",
    "\n",
    "    if len(digits) > 0:\n",
    "        # Se encontrar dígitos, junta tudo numa única string\n",
    "        return \"\".join(digits)\n",
    "    else:\n",
    "        # Se não houver dígitos, retorna \"SN\"\n",
    "        return \"SN\"\n",
    "\n",
    "# Aplica a função na coluna Numero\n",
    "df[\"Numero\"] = df[\"Numero\"].apply(tratar_numero)\n",
    "df.columns"
   ]
  },
  {
   "cell_type": "markdown",
   "metadata": {},
   "source": [
    "### Inserção teste"
   ]
  },
  {
   "cell_type": "code",
   "execution_count": 19,
   "metadata": {},
   "outputs": [],
   "source": [
    "# inserir_cliente(\n",
    "#     razao=\"Cliente de Teste\",\n",
    "#     cnpj_cpf=\"13864482496\",\n",
    "#     cep=\"57160-000\",\n",
    "#     endereco=\"Rua ABC\",\n",
    "#     numero=\"123\",\n",
    "#     bairro=\"Bairro XPTO\",\n",
    "#     cidade=\"1659\",\n",
    "#     uf=\"AL\",\n",
    "#     telefone_celular=\"82999999999\",\n",
    "#     email=\"teste@example.com\",\n",
    "# )"
   ]
  },
  {
   "cell_type": "code",
   "execution_count": 20,
   "metadata": {},
   "outputs": [],
   "source": [
    "df = df.head(10)"
   ]
  },
  {
   "cell_type": "markdown",
   "metadata": {},
   "source": [
    "## Insersão do DF"
   ]
  },
  {
   "cell_type": "code",
   "execution_count": 21,
   "metadata": {},
   "outputs": [
    {
     "name": "stdout",
     "output_type": "stream",
     "text": [
      "200 OK\n",
      "b'{\"type\":\"error\",\"message\":\"Este CNPJ\\\\/CPF j\\\\u00e1 est\\\\u00e1 Cadastrado!<br>ID: 117164 - (ABELANIO VER\\\\u00cdSSIMO PEIXOTO)\",\"atualiza_campos\":[{\"tipo\":\"r\",\"campo\":\"ativo\",\"valor\":\"S\"},{\"tipo\":\"i\",\"campo\":\"data_cadastro\",\"valor\":\"\"},{\"tipo\":\"i\",\"campo\":\"filial_id\",\"valor\":\"27\"},{\"tipo\":\"i\",\"campo\":\"latitude\",\"valor\":\"\"},{\"tipo\":\"i\",\"campo\":\"longitude\",\"valor\":\"\"},{\"tipo\":\"i\",\"campo\":\"id_conta\",\"valor\":\"\"},{\"tipo\":\"d\",\"campo\":\"crm_data_vencemos\",\"valor\":\"\"},{\"tipo\":\"r\",\"campo\":\"convert_cliente_forn\",\"valor\":\"\"},{\"tipo\":\"d\",\"campo\":\"crm_data_perdemos\",\"valor\":\"\"},{\"tipo\":\"i\",\"campo\":\"crm_data_sem_viabilidade\",\"valor\":\"\"},{\"tipo\":\"i\",\"campo\":\"crm_data_sem_porta_disponivel\",\"valor\":\"\"},{\"tipo\":\"i\",\"campo\":\"crm_data_abortamos\",\"valor\":\"\"},{\"tipo\":\"i\",\"campo\":\"crm_data_negociando\",\"valor\":\"\"},{\"tipo\":\"i\",\"campo\":\"crm_data_apresentando\",\"valor\":\"\"},{\"tipo\":\"i\",\"campo\":\"crm_data_sondagem\",\"valor\":\"\"},{\"tipo\":\"i\",\"campo\":\"crm_data_novo\",\"valor\":\"\"}]}'\n",
      "200 OK\n",
      "b'{\"type\":\"error\",\"message\":\"Este CNPJ\\\\/CPF j\\\\u00e1 est\\\\u00e1 Cadastrado!<br>ID: 116953 - (ACLECIA DA SILVA)\",\"atualiza_campos\":[{\"tipo\":\"r\",\"campo\":\"ativo\",\"valor\":\"S\"},{\"tipo\":\"i\",\"campo\":\"data_cadastro\",\"valor\":\"\"},{\"tipo\":\"i\",\"campo\":\"filial_id\",\"valor\":\"27\"},{\"tipo\":\"i\",\"campo\":\"latitude\",\"valor\":\"\"},{\"tipo\":\"i\",\"campo\":\"longitude\",\"valor\":\"\"},{\"tipo\":\"i\",\"campo\":\"id_conta\",\"valor\":\"\"},{\"tipo\":\"d\",\"campo\":\"crm_data_vencemos\",\"valor\":\"\"},{\"tipo\":\"r\",\"campo\":\"convert_cliente_forn\",\"valor\":\"\"},{\"tipo\":\"d\",\"campo\":\"crm_data_perdemos\",\"valor\":\"\"},{\"tipo\":\"i\",\"campo\":\"crm_data_sem_viabilidade\",\"valor\":\"\"},{\"tipo\":\"i\",\"campo\":\"crm_data_sem_porta_disponivel\",\"valor\":\"\"},{\"tipo\":\"i\",\"campo\":\"crm_data_abortamos\",\"valor\":\"\"},{\"tipo\":\"i\",\"campo\":\"crm_data_negociando\",\"valor\":\"\"},{\"tipo\":\"i\",\"campo\":\"crm_data_apresentando\",\"valor\":\"\"},{\"tipo\":\"i\",\"campo\":\"crm_data_sondagem\",\"valor\":\"\"},{\"tipo\":\"i\",\"campo\":\"crm_data_novo\",\"valor\":\"\"}]}'\n",
      "200 OK\n",
      "b'{\"type\":\"error\",\"message\":\"Este CNPJ\\\\/CPF j\\\\u00e1 est\\\\u00e1 Cadastrado!<br>ID: 117461 - (ADEILTON DA MATA)\",\"atualiza_campos\":[{\"tipo\":\"r\",\"campo\":\"ativo\",\"valor\":\"S\"},{\"tipo\":\"i\",\"campo\":\"data_cadastro\",\"valor\":\"\"},{\"tipo\":\"i\",\"campo\":\"filial_id\",\"valor\":\"27\"},{\"tipo\":\"i\",\"campo\":\"latitude\",\"valor\":\"\"},{\"tipo\":\"i\",\"campo\":\"longitude\",\"valor\":\"\"},{\"tipo\":\"i\",\"campo\":\"id_conta\",\"valor\":\"\"},{\"tipo\":\"d\",\"campo\":\"crm_data_vencemos\",\"valor\":\"\"},{\"tipo\":\"r\",\"campo\":\"convert_cliente_forn\",\"valor\":\"\"},{\"tipo\":\"d\",\"campo\":\"crm_data_perdemos\",\"valor\":\"\"},{\"tipo\":\"i\",\"campo\":\"crm_data_sem_viabilidade\",\"valor\":\"\"},{\"tipo\":\"i\",\"campo\":\"crm_data_sem_porta_disponivel\",\"valor\":\"\"},{\"tipo\":\"i\",\"campo\":\"crm_data_abortamos\",\"valor\":\"\"},{\"tipo\":\"i\",\"campo\":\"crm_data_negociando\",\"valor\":\"\"},{\"tipo\":\"i\",\"campo\":\"crm_data_apresentando\",\"valor\":\"\"},{\"tipo\":\"i\",\"campo\":\"crm_data_sondagem\",\"valor\":\"\"},{\"tipo\":\"i\",\"campo\":\"crm_data_novo\",\"valor\":\"\"}]}'\n",
      "200 OK\n",
      "b'{\"type\":\"error\",\"message\":\"Este CNPJ\\\\/CPF j\\\\u00e1 est\\\\u00e1 Cadastrado!<br>ID: 117229 - (ADEILTON DA SILVA)\",\"atualiza_campos\":[{\"tipo\":\"r\",\"campo\":\"ativo\",\"valor\":\"S\"},{\"tipo\":\"i\",\"campo\":\"data_cadastro\",\"valor\":\"\"},{\"tipo\":\"i\",\"campo\":\"filial_id\",\"valor\":\"27\"},{\"tipo\":\"i\",\"campo\":\"latitude\",\"valor\":\"\"},{\"tipo\":\"i\",\"campo\":\"longitude\",\"valor\":\"\"},{\"tipo\":\"i\",\"campo\":\"id_conta\",\"valor\":\"\"},{\"tipo\":\"d\",\"campo\":\"crm_data_vencemos\",\"valor\":\"\"},{\"tipo\":\"r\",\"campo\":\"convert_cliente_forn\",\"valor\":\"\"},{\"tipo\":\"d\",\"campo\":\"crm_data_perdemos\",\"valor\":\"\"},{\"tipo\":\"i\",\"campo\":\"crm_data_sem_viabilidade\",\"valor\":\"\"},{\"tipo\":\"i\",\"campo\":\"crm_data_sem_porta_disponivel\",\"valor\":\"\"},{\"tipo\":\"i\",\"campo\":\"crm_data_abortamos\",\"valor\":\"\"},{\"tipo\":\"i\",\"campo\":\"crm_data_negociando\",\"valor\":\"\"},{\"tipo\":\"i\",\"campo\":\"crm_data_apresentando\",\"valor\":\"\"},{\"tipo\":\"i\",\"campo\":\"crm_data_sondagem\",\"valor\":\"\"},{\"tipo\":\"i\",\"campo\":\"crm_data_novo\",\"valor\":\"\"}]}'\n",
      "200 OK\n",
      "b'{\"type\":\"error\",\"message\":\"Este CNPJ\\\\/CPF j\\\\u00e1 est\\\\u00e1 Cadastrado!<br>ID: 117165 - (ADEILTON TEIXEIRA DE LIMA)\",\"atualiza_campos\":[{\"tipo\":\"r\",\"campo\":\"ativo\",\"valor\":\"S\"},{\"tipo\":\"i\",\"campo\":\"data_cadastro\",\"valor\":\"\"},{\"tipo\":\"i\",\"campo\":\"filial_id\",\"valor\":\"27\"},{\"tipo\":\"i\",\"campo\":\"latitude\",\"valor\":\"\"},{\"tipo\":\"i\",\"campo\":\"longitude\",\"valor\":\"\"},{\"tipo\":\"i\",\"campo\":\"id_conta\",\"valor\":\"\"},{\"tipo\":\"d\",\"campo\":\"crm_data_vencemos\",\"valor\":\"\"},{\"tipo\":\"r\",\"campo\":\"convert_cliente_forn\",\"valor\":\"\"},{\"tipo\":\"d\",\"campo\":\"crm_data_perdemos\",\"valor\":\"\"},{\"tipo\":\"i\",\"campo\":\"crm_data_sem_viabilidade\",\"valor\":\"\"},{\"tipo\":\"i\",\"campo\":\"crm_data_sem_porta_disponivel\",\"valor\":\"\"},{\"tipo\":\"i\",\"campo\":\"crm_data_abortamos\",\"valor\":\"\"},{\"tipo\":\"i\",\"campo\":\"crm_data_negociando\",\"valor\":\"\"},{\"tipo\":\"i\",\"campo\":\"crm_data_apresentando\",\"valor\":\"\"},{\"tipo\":\"i\",\"campo\":\"crm_data_sondagem\",\"valor\":\"\"},{\"tipo\":\"i\",\"campo\":\"crm_data_novo\",\"valor\":\"\"}]}'\n",
      "200 OK\n",
      "b'{\"type\":\"error\",\"message\":\"Este CNPJ\\\\/CPF j\\\\u00e1 est\\\\u00e1 Cadastrado!<br>ID: 117326 - (ADELMO LUIZ BERTO DE OLIVEIRA)\",\"atualiza_campos\":[{\"tipo\":\"r\",\"campo\":\"ativo\",\"valor\":\"S\"},{\"tipo\":\"i\",\"campo\":\"data_cadastro\",\"valor\":\"\"},{\"tipo\":\"i\",\"campo\":\"filial_id\",\"valor\":\"27\"},{\"tipo\":\"i\",\"campo\":\"latitude\",\"valor\":\"\"},{\"tipo\":\"i\",\"campo\":\"longitude\",\"valor\":\"\"},{\"tipo\":\"i\",\"campo\":\"id_conta\",\"valor\":\"\"},{\"tipo\":\"d\",\"campo\":\"crm_data_vencemos\",\"valor\":\"\"},{\"tipo\":\"r\",\"campo\":\"convert_cliente_forn\",\"valor\":\"\"},{\"tipo\":\"d\",\"campo\":\"crm_data_perdemos\",\"valor\":\"\"},{\"tipo\":\"i\",\"campo\":\"crm_data_sem_viabilidade\",\"valor\":\"\"},{\"tipo\":\"i\",\"campo\":\"crm_data_sem_porta_disponivel\",\"valor\":\"\"},{\"tipo\":\"i\",\"campo\":\"crm_data_abortamos\",\"valor\":\"\"},{\"tipo\":\"i\",\"campo\":\"crm_data_negociando\",\"valor\":\"\"},{\"tipo\":\"i\",\"campo\":\"crm_data_apresentando\",\"valor\":\"\"},{\"tipo\":\"i\",\"campo\":\"crm_data_sondagem\",\"valor\":\"\"},{\"tipo\":\"i\",\"campo\":\"crm_data_novo\",\"valor\":\"\"}]}'\n",
      "200 OK\n",
      "b'{\"type\":\"error\",\"message\":\"Este CNPJ\\\\/CPF j\\\\u00e1 est\\\\u00e1 Cadastrado!<br>ID: 117230 - (ADEMAR MANOEL DA SILVA)\",\"atualiza_campos\":[{\"tipo\":\"r\",\"campo\":\"ativo\",\"valor\":\"S\"},{\"tipo\":\"i\",\"campo\":\"data_cadastro\",\"valor\":\"\"},{\"tipo\":\"i\",\"campo\":\"filial_id\",\"valor\":\"27\"},{\"tipo\":\"i\",\"campo\":\"latitude\",\"valor\":\"\"},{\"tipo\":\"i\",\"campo\":\"longitude\",\"valor\":\"\"},{\"tipo\":\"i\",\"campo\":\"id_conta\",\"valor\":\"\"},{\"tipo\":\"d\",\"campo\":\"crm_data_vencemos\",\"valor\":\"\"},{\"tipo\":\"r\",\"campo\":\"convert_cliente_forn\",\"valor\":\"\"},{\"tipo\":\"d\",\"campo\":\"crm_data_perdemos\",\"valor\":\"\"},{\"tipo\":\"i\",\"campo\":\"crm_data_sem_viabilidade\",\"valor\":\"\"},{\"tipo\":\"i\",\"campo\":\"crm_data_sem_porta_disponivel\",\"valor\":\"\"},{\"tipo\":\"i\",\"campo\":\"crm_data_abortamos\",\"valor\":\"\"},{\"tipo\":\"i\",\"campo\":\"crm_data_negociando\",\"valor\":\"\"},{\"tipo\":\"i\",\"campo\":\"crm_data_apresentando\",\"valor\":\"\"},{\"tipo\":\"i\",\"campo\":\"crm_data_sondagem\",\"valor\":\"\"},{\"tipo\":\"i\",\"campo\":\"crm_data_novo\",\"valor\":\"\"}]}'\n",
      "200 OK\n",
      "b'{\"type\":\"error\",\"message\":\"Este CNPJ\\\\/CPF j\\\\u00e1 est\\\\u00e1 Cadastrado!<br>ID: 117231 - (ADILSON PEREIRA DA SILVA)\",\"atualiza_campos\":[{\"tipo\":\"r\",\"campo\":\"ativo\",\"valor\":\"S\"},{\"tipo\":\"i\",\"campo\":\"data_cadastro\",\"valor\":\"\"},{\"tipo\":\"i\",\"campo\":\"filial_id\",\"valor\":\"27\"},{\"tipo\":\"i\",\"campo\":\"latitude\",\"valor\":\"\"},{\"tipo\":\"i\",\"campo\":\"longitude\",\"valor\":\"\"},{\"tipo\":\"i\",\"campo\":\"id_conta\",\"valor\":\"\"},{\"tipo\":\"d\",\"campo\":\"crm_data_vencemos\",\"valor\":\"\"},{\"tipo\":\"r\",\"campo\":\"convert_cliente_forn\",\"valor\":\"\"},{\"tipo\":\"d\",\"campo\":\"crm_data_perdemos\",\"valor\":\"\"},{\"tipo\":\"i\",\"campo\":\"crm_data_sem_viabilidade\",\"valor\":\"\"},{\"tipo\":\"i\",\"campo\":\"crm_data_sem_porta_disponivel\",\"valor\":\"\"},{\"tipo\":\"i\",\"campo\":\"crm_data_abortamos\",\"valor\":\"\"},{\"tipo\":\"i\",\"campo\":\"crm_data_negociando\",\"valor\":\"\"},{\"tipo\":\"i\",\"campo\":\"crm_data_apresentando\",\"valor\":\"\"},{\"tipo\":\"i\",\"campo\":\"crm_data_sondagem\",\"valor\":\"\"},{\"tipo\":\"i\",\"campo\":\"crm_data_novo\",\"valor\":\"\"}]}'\n",
      "200 OK\n",
      "b'{\"type\":\"error\",\"message\":\"Este CNPJ\\\\/CPF j\\\\u00e1 est\\\\u00e1 Cadastrado!<br>ID: 117166 - (ADRIANA PAULINO DA SILVA)\",\"atualiza_campos\":[{\"tipo\":\"r\",\"campo\":\"ativo\",\"valor\":\"S\"},{\"tipo\":\"i\",\"campo\":\"data_cadastro\",\"valor\":\"\"},{\"tipo\":\"i\",\"campo\":\"filial_id\",\"valor\":\"27\"},{\"tipo\":\"i\",\"campo\":\"latitude\",\"valor\":\"\"},{\"tipo\":\"i\",\"campo\":\"longitude\",\"valor\":\"\"},{\"tipo\":\"i\",\"campo\":\"id_conta\",\"valor\":\"\"},{\"tipo\":\"d\",\"campo\":\"crm_data_vencemos\",\"valor\":\"\"},{\"tipo\":\"r\",\"campo\":\"convert_cliente_forn\",\"valor\":\"\"},{\"tipo\":\"d\",\"campo\":\"crm_data_perdemos\",\"valor\":\"\"},{\"tipo\":\"i\",\"campo\":\"crm_data_sem_viabilidade\",\"valor\":\"\"},{\"tipo\":\"i\",\"campo\":\"crm_data_sem_porta_disponivel\",\"valor\":\"\"},{\"tipo\":\"i\",\"campo\":\"crm_data_abortamos\",\"valor\":\"\"},{\"tipo\":\"i\",\"campo\":\"crm_data_negociando\",\"valor\":\"\"},{\"tipo\":\"i\",\"campo\":\"crm_data_apresentando\",\"valor\":\"\"},{\"tipo\":\"i\",\"campo\":\"crm_data_sondagem\",\"valor\":\"\"},{\"tipo\":\"i\",\"campo\":\"crm_data_novo\",\"valor\":\"\"}]}'\n",
      "200 OK\n",
      "b'{\"type\":\"error\",\"message\":\"Este CNPJ\\\\/CPF j\\\\u00e1 est\\\\u00e1 Cadastrado!<br>ID: 116954 - (ADRIANE RODRIGUES DA SILVA)\",\"atualiza_campos\":[{\"tipo\":\"r\",\"campo\":\"ativo\",\"valor\":\"S\"},{\"tipo\":\"i\",\"campo\":\"data_cadastro\",\"valor\":\"\"},{\"tipo\":\"i\",\"campo\":\"filial_id\",\"valor\":\"27\"},{\"tipo\":\"i\",\"campo\":\"latitude\",\"valor\":\"\"},{\"tipo\":\"i\",\"campo\":\"longitude\",\"valor\":\"\"},{\"tipo\":\"i\",\"campo\":\"id_conta\",\"valor\":\"\"},{\"tipo\":\"d\",\"campo\":\"crm_data_vencemos\",\"valor\":\"\"},{\"tipo\":\"r\",\"campo\":\"convert_cliente_forn\",\"valor\":\"\"},{\"tipo\":\"d\",\"campo\":\"crm_data_perdemos\",\"valor\":\"\"},{\"tipo\":\"i\",\"campo\":\"crm_data_sem_viabilidade\",\"valor\":\"\"},{\"tipo\":\"i\",\"campo\":\"crm_data_sem_porta_disponivel\",\"valor\":\"\"},{\"tipo\":\"i\",\"campo\":\"crm_data_abortamos\",\"valor\":\"\"},{\"tipo\":\"i\",\"campo\":\"crm_data_negociando\",\"valor\":\"\"},{\"tipo\":\"i\",\"campo\":\"crm_data_apresentando\",\"valor\":\"\"},{\"tipo\":\"i\",\"campo\":\"crm_data_sondagem\",\"valor\":\"\"},{\"tipo\":\"i\",\"campo\":\"crm_data_novo\",\"valor\":\"\"}]}'\n"
     ]
    },
    {
     "data": {
      "text/html": [
       "<div>\n",
       "<style scoped>\n",
       "    .dataframe tbody tr th:only-of-type {\n",
       "        vertical-align: middle;\n",
       "    }\n",
       "\n",
       "    .dataframe tbody tr th {\n",
       "        vertical-align: top;\n",
       "    }\n",
       "\n",
       "    .dataframe thead th {\n",
       "        text-align: right;\n",
       "    }\n",
       "</style>\n",
       "<table border=\"1\" class=\"dataframe\">\n",
       "  <thead>\n",
       "    <tr style=\"text-align: right;\">\n",
       "      <th></th>\n",
       "      <th>razaoSocial</th>\n",
       "      <th>Email</th>\n",
       "      <th>Celular</th>\n",
       "      <th>cpf_cnpj</th>\n",
       "      <th>rg_ie</th>\n",
       "      <th>idCidade</th>\n",
       "      <th>Endereco</th>\n",
       "      <th>Complemento</th>\n",
       "      <th>Numero</th>\n",
       "      <th>Bairro</th>\n",
       "      <th>Cep</th>\n",
       "      <th>idClienteIXC</th>\n",
       "      <th>statusInsercao</th>\n",
       "      <th>logRetorno</th>\n",
       "    </tr>\n",
       "  </thead>\n",
       "  <tbody>\n",
       "    <tr>\n",
       "      <th>0</th>\n",
       "      <td>Abelanio Veríssimo Peixoto</td>\n",
       "      <td>radiosnettelecom@gmail.com</td>\n",
       "      <td>28999537513</td>\n",
       "      <td>70380021471</td>\n",
       "      <td>Isento</td>\n",
       "      <td>1659</td>\n",
       "      <td>Vila São Sebastião</td>\n",
       "      <td>Próximo ao cacimbão</td>\n",
       "      <td>0</td>\n",
       "      <td>Centro</td>\n",
       "      <td>57830-000</td>\n",
       "      <td>None</td>\n",
       "      <td>falha</td>\n",
       "      <td>{'type': 'error', 'message': 'Este CNPJ/CPF já...</td>\n",
       "    </tr>\n",
       "    <tr>\n",
       "      <th>1</th>\n",
       "      <td>Aclecia da Silva</td>\n",
       "      <td>radiosnettelecom@gmail.com</td>\n",
       "      <td>8298155632</td>\n",
       "      <td>12694798497</td>\n",
       "      <td>30234875</td>\n",
       "      <td>1659</td>\n",
       "      <td>Maria de Lurdes</td>\n",
       "      <td>Próximo ao mirante</td>\n",
       "      <td>SN</td>\n",
       "      <td>Centro</td>\n",
       "      <td>57830-000</td>\n",
       "      <td>None</td>\n",
       "      <td>falha</td>\n",
       "      <td>{'type': 'error', 'message': 'Este CNPJ/CPF já...</td>\n",
       "    </tr>\n",
       "    <tr>\n",
       "      <th>2</th>\n",
       "      <td>Adeilton da Mata</td>\n",
       "      <td>adeiltondamata@gmail.com</td>\n",
       "      <td>8287840401</td>\n",
       "      <td>02301397440</td>\n",
       "      <td>40259595</td>\n",
       "      <td>1659</td>\n",
       "      <td>Ass. Nova Esperança</td>\n",
       "      <td>próximo a casa de farinha</td>\n",
       "      <td>SN</td>\n",
       "      <td>Zona Rural</td>\n",
       "      <td>57830-000</td>\n",
       "      <td>None</td>\n",
       "      <td>falha</td>\n",
       "      <td>{'type': 'error', 'message': 'Este CNPJ/CPF já...</td>\n",
       "    </tr>\n",
       "    <tr>\n",
       "      <th>3</th>\n",
       "      <td>Adeilton da Silva</td>\n",
       "      <td>radiosnettelecom@gmail.com</td>\n",
       "      <td>82996596910</td>\n",
       "      <td>51629143472</td>\n",
       "      <td>3614522-0</td>\n",
       "      <td>1659</td>\n",
       "      <td>Gravatá</td>\n",
       "      <td>Lote do Sr. Del</td>\n",
       "      <td>SN</td>\n",
       "      <td>Zona Rural</td>\n",
       "      <td>57830-000</td>\n",
       "      <td>None</td>\n",
       "      <td>falha</td>\n",
       "      <td>{'type': 'error', 'message': 'Este CNPJ/CPF já...</td>\n",
       "    </tr>\n",
       "    <tr>\n",
       "      <th>4</th>\n",
       "      <td>Adeilton Teixeira de Lima</td>\n",
       "      <td>radiosnettelecom@gmail.com</td>\n",
       "      <td>82981674711</td>\n",
       "      <td>00843354402</td>\n",
       "      <td>36145220</td>\n",
       "      <td>1659</td>\n",
       "      <td>João Lyra / Qd: A</td>\n",
       "      <td></td>\n",
       "      <td>24</td>\n",
       "      <td>Conj. Raimundo Nonato Lopes</td>\n",
       "      <td>57830-000</td>\n",
       "      <td>None</td>\n",
       "      <td>falha</td>\n",
       "      <td>{'type': 'error', 'message': 'Este CNPJ/CPF já...</td>\n",
       "    </tr>\n",
       "  </tbody>\n",
       "</table>\n",
       "</div>"
      ],
      "text/plain": [
       "                  razaoSocial                       Email      Celular  \\\n",
       "0  Abelanio Veríssimo Peixoto  radiosnettelecom@gmail.com  28999537513   \n",
       "1            Aclecia da Silva  radiosnettelecom@gmail.com   8298155632   \n",
       "2            Adeilton da Mata    adeiltondamata@gmail.com   8287840401   \n",
       "3           Adeilton da Silva  radiosnettelecom@gmail.com  82996596910   \n",
       "4   Adeilton Teixeira de Lima  radiosnettelecom@gmail.com  82981674711   \n",
       "\n",
       "      cpf_cnpj      rg_ie  idCidade             Endereco  \\\n",
       "0  70380021471     Isento      1659   Vila São Sebastião   \n",
       "1  12694798497   30234875      1659      Maria de Lurdes   \n",
       "2  02301397440   40259595      1659  Ass. Nova Esperança   \n",
       "3  51629143472  3614522-0      1659              Gravatá   \n",
       "4  00843354402   36145220      1659    João Lyra / Qd: A   \n",
       "\n",
       "                 Complemento Numero                       Bairro        Cep  \\\n",
       "0        Próximo ao cacimbão      0                       Centro  57830-000   \n",
       "1         Próximo ao mirante     SN                       Centro  57830-000   \n",
       "2  próximo a casa de farinha     SN                   Zona Rural  57830-000   \n",
       "3            Lote do Sr. Del     SN                   Zona Rural  57830-000   \n",
       "4                                24  Conj. Raimundo Nonato Lopes  57830-000   \n",
       "\n",
       "  idClienteIXC statusInsercao  \\\n",
       "0         None          falha   \n",
       "1         None          falha   \n",
       "2         None          falha   \n",
       "3         None          falha   \n",
       "4         None          falha   \n",
       "\n",
       "                                          logRetorno  \n",
       "0  {'type': 'error', 'message': 'Este CNPJ/CPF já...  \n",
       "1  {'type': 'error', 'message': 'Este CNPJ/CPF já...  \n",
       "2  {'type': 'error', 'message': 'Este CNPJ/CPF já...  \n",
       "3  {'type': 'error', 'message': 'Este CNPJ/CPF já...  \n",
       "4  {'type': 'error', 'message': 'Este CNPJ/CPF já...  "
      ]
     },
     "execution_count": 21,
     "metadata": {},
     "output_type": "execute_result"
    }
   ],
   "source": [
    "# Crie as colunas adicionais (inicialmente vazias)\n",
    "df[\"idClienteIXC\"] = None\n",
    "df[\"statusInsercao\"] = None\n",
    "df[\"logRetorno\"] = None\n",
    "\n",
    "for idx, row in df.iterrows():\n",
    "    # Mapeamos as colunas do DF para os parâmetros da função inserir_cliente.\n",
    "    razao = row[\"razaoSocial\"]\n",
    "    email = row[\"Email\"]\n",
    "    celular = row[\"Celular\"]\n",
    "    cnpj_cpf = row[\"cpf_cnpj\"]\n",
    "    rg_ie = row[\"rg_ie\"]\n",
    "    cidade = row[\"idCidade\"] \n",
    "    endereco = row[\"Endereco\"]\n",
    "    complemento = row[\"Complemento\"]\n",
    "    numero = row[\"Numero\"]\n",
    "    bairro = row[\"Bairro\"]\n",
    "    cep = row[\"Cep\"]\n",
    "    \n",
    "    # Chamamos a função inserir_cliente:\n",
    "    response = inserir_cliente(\n",
    "        razao=razao,\n",
    "        cnpj_cpf=cnpj_cpf,\n",
    "        cep=cep,\n",
    "        endereco=endereco,\n",
    "        numero=numero,\n",
    "        complemento=complemento,\n",
    "        bairro=bairro,\n",
    "        cidade=cidade,\n",
    "        telefone_celular=celular,\n",
    "        email=email,\n",
    "        ie_identidade=rg_ie,\n",
    "        # Se você quiser passar outros campos com valores-padrão, inclua aqui\n",
    "        # Ex.: uf=\"AL\" etc.\n",
    "    )\n",
    "    \n",
    "    status_code = response.status_code\n",
    "    content = response.content  # bytes\n",
    "\n",
    "    # Fazemos parse do JSON:\n",
    "    # b'{\"type\":\"success\",\"message\":\"Registro inserido com sucesso!\",\"id\":\"117580\", ...}'\n",
    "    json_resp = json.loads(content.decode(\"utf-8\", errors=\"replace\"))\n",
    "\n",
    "    if status_code == 200 and json_resp.get(\"type\") == \"success\":\n",
    "        # Sucesso: capturamos o \"id\"\n",
    "        client_id = json_resp.get(\"id\")  # Exemplo: \"117580\"\n",
    "        \n",
    "        df.at[idx, \"idClienteIXC\"] = client_id\n",
    "        df.at[idx, \"statusInsercao\"] = \"sucesso\"\n",
    "        # logRetorno pode ficar vazio ou None em caso de sucesso\n",
    "        df.at[idx, \"logRetorno\"] = \"\"\n",
    "    else:\n",
    "        # Falha: salvamos o log completo\n",
    "        df.at[idx, \"idClienteIXC\"] = None\n",
    "        df.at[idx, \"statusInsercao\"] = \"falha\"\n",
    "        # Guardamos o JSON completo (ou a chave \"message\", se preferir):\n",
    "        df.at[idx, \"logRetorno\"] = json_resp\n",
    "\n",
    "# Ao final, df terá as colunas extras preenchidas\n",
    "df.head()"
   ]
  }
 ],
 "metadata": {
  "kernelspec": {
   "display_name": "Python 3",
   "language": "python",
   "name": "python3"
  },
  "language_info": {
   "codemirror_mode": {
    "name": "ipython",
    "version": 3
   },
   "file_extension": ".py",
   "mimetype": "text/x-python",
   "name": "python",
   "nbconvert_exporter": "python",
   "pygments_lexer": "ipython3",
   "version": "3.11.4"
  }
 },
 "nbformat": 4,
 "nbformat_minor": 2
}
