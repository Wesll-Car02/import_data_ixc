{
 "cells": [
  {
   "cell_type": "markdown",
   "metadata": {},
   "source": [
    "# Responsável por tratar os dados pertinente a cliente"
   ]
  },
  {
   "cell_type": "markdown",
   "metadata": {},
   "source": [
    "## Importando bibliotecas"
   ]
  },
  {
   "cell_type": "code",
   "execution_count": 38,
   "metadata": {},
   "outputs": [],
   "source": [
    "import sys, os\n",
    "\n",
    "# Carregando pacote que estao fora de /transform\n",
    "path_raiz = os.path.abspath(os.path.join(\"..\", \"..\"))\n",
    "sys.path.append(path_raiz)"
   ]
  },
  {
   "cell_type": "code",
   "execution_count": 39,
   "metadata": {},
   "outputs": [],
   "source": [
    "import pandas as pd\n",
    "from src.utils import carregar_tabela_excel\n",
    "import json"
   ]
  },
  {
   "cell_type": "markdown",
   "metadata": {},
   "source": [
    "## Importando e tratando os dados"
   ]
  },
  {
   "cell_type": "code",
   "execution_count": 40,
   "metadata": {},
   "outputs": [],
   "source": [
    "source_input = \"../../data/baseTesteIXC.xlsx\"\n",
    "source_output = \"../../data/baseTesteIXC_Transform.xlsx\"\n",
    "df = carregar_tabela_excel(source_input)"
   ]
  },
  {
   "cell_type": "markdown",
   "metadata": {},
   "source": [
    "### Tratando CPF_CNPJ e Removendo Duplicados"
   ]
  },
  {
   "cell_type": "code",
   "execution_count": 41,
   "metadata": {},
   "outputs": [],
   "source": [
    "# Garante que a coluna seja interpretada como string\n",
    "df[\"cpf_cnpj\"] = df[\"cpf_cnpj\"].astype(str)\n",
    "\n",
    "# Remove os caracteres '.', '-', '/' usando expressão regular\n",
    "# df[\"cpf_cnpj\"] = df[\"cpf_cnpj\"].str.replace(r\"[./-]\", \"\", regex=True)\n",
    "\n",
    "# Remove duplicados do CPF tratando como um unico cliente\n",
    "# df = df.drop_duplicates(subset=[\"cpf_cnpj\"], keep=\"first\")"
   ]
  },
  {
   "cell_type": "markdown",
   "metadata": {},
   "source": [
    "### Tratando numero de Celular"
   ]
  },
  {
   "cell_type": "code",
   "execution_count": 42,
   "metadata": {},
   "outputs": [],
   "source": [
    "# Converte a coluna Celular em string\n",
    "df[\"Celular\"] = df[\"Celular\"].astype(str)\n",
    "\n",
    "# Remove os caracteres '(', ')' e '-' usando expressão regular\n",
    "df[\"Celular\"] = df[\"Celular\"].str.replace(r\"[()\\-]\", \"\", regex=True)\n",
    "\n",
    "# Substitui valores 'nan' ou string vazia por '99999999999'\n",
    "df[\"Celular\"] = df[\"Celular\"].replace([\"nan\", \"\"], \"99999999999\")"
   ]
  },
  {
   "cell_type": "markdown",
   "metadata": {},
   "source": [
    "### Tratando rg_ie"
   ]
  },
  {
   "cell_type": "code",
   "execution_count": 43,
   "metadata": {},
   "outputs": [],
   "source": [
    "## Substitui NaN por vazio no campo rg_ie\n",
    "df[\"rg_ie\"] = df[\"rg_ie\"].fillna(\"\")"
   ]
  },
  {
   "cell_type": "markdown",
   "metadata": {},
   "source": [
    "### Tratando Complemento e Número "
   ]
  },
  {
   "cell_type": "code",
   "execution_count": 44,
   "metadata": {},
   "outputs": [],
   "source": [
    "## Substitui NaN por vazio no campo Complemento\n",
    "df[\"Complemento\"] = df[\"Complemento\"].fillna(\"\")\n",
    "\n",
    "\n",
    "## Tratando número da casa\n",
    "import re\n",
    "\n",
    "def tratar_numero(valor):\n",
    "    # Converte para string\n",
    "    texto = str(valor)\n",
    "\n",
    "    # Captura todos os dígitos (0-9) presentes no texto\n",
    "    digits = re.findall(r\"\\d+\", texto)\n",
    "\n",
    "    if len(digits) > 0:\n",
    "        # Se encontrar dígitos, junta tudo numa única string\n",
    "        return \"\".join(digits)\n",
    "    else:\n",
    "        # Se não houver dígitos, retorna \"SN\"\n",
    "        return \"SN\"\n",
    "\n",
    "# Aplica a função na coluna Numero\n",
    "df[\"Numero\"] = df[\"Numero\"].apply(tratar_numero)"
   ]
  },
  {
   "cell_type": "markdown",
   "metadata": {},
   "source": [
    "### Trata E-mail e rg_ie"
   ]
  },
  {
   "cell_type": "code",
   "execution_count": 45,
   "metadata": {},
   "outputs": [],
   "source": [
    "df[\"Email\"] = df[\"Email\"].fillna(\"email@default.com\")  # Ajuste para valores reais\n",
    "df[\"rg_ie\"] = df[\"rg_ie\"].fillna(\"Não informado\")"
   ]
  },
  {
   "cell_type": "markdown",
   "metadata": {},
   "source": [
    "### Exportando"
   ]
  },
  {
   "cell_type": "code",
   "execution_count": 46,
   "metadata": {},
   "outputs": [],
   "source": [
    "# Converter colunas que devem preservar zeros à esquerda para string\n",
    "colunas_texto = ['cpf_cnpj', 'Cep', 'Numero']\n",
    "for coluna in colunas_texto:\n",
    "    df[coluna] = df[coluna].astype(str).str.strip()  # Assegura que sejam strings e remove espaços\n",
    "\n",
    "df.to_excel(source_output)"
   ]
  }
 ],
 "metadata": {
  "kernelspec": {
   "display_name": "Python 3",
   "language": "python",
   "name": "python3"
  },
  "language_info": {
   "codemirror_mode": {
    "name": "ipython",
    "version": 3
   },
   "file_extension": ".py",
   "mimetype": "text/x-python",
   "name": "python",
   "nbconvert_exporter": "python",
   "pygments_lexer": "ipython3",
   "version": "3.13.0"
  }
 },
 "nbformat": 4,
 "nbformat_minor": 2
}
