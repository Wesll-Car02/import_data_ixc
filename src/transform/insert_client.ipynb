{
 "cells": [
  {
   "cell_type": "markdown",
   "metadata": {},
   "source": [
    "# Responsável por tratar os dados pertinente a cliente"
   ]
  },
  {
   "cell_type": "markdown",
   "metadata": {},
   "source": [
    "## Importando bibliotecas"
   ]
  },
  {
   "cell_type": "code",
   "execution_count": 17,
   "metadata": {},
   "outputs": [],
   "source": [
    "import sys, os\n",
    "\n",
    "# Carregando pacote que estao fora de /transform\n",
    "path_raiz = os.path.abspath(os.path.join(\"..\", \"..\"))\n",
    "sys.path.append(path_raiz)"
   ]
  },
  {
   "cell_type": "code",
   "execution_count": 18,
   "metadata": {},
   "outputs": [],
   "source": [
    "import pandas as pd\n",
    "from src.utils import carregar_tabela_excel\n",
    "from src.insert.insert_client import inserir_cliente\n",
    "import json\n",
    "import datetime"
   ]
  },
  {
   "cell_type": "markdown",
   "metadata": {},
   "source": [
    "## Importando e tratando os dados"
   ]
  },
  {
   "cell_type": "code",
   "execution_count": 19,
   "metadata": {},
   "outputs": [
    {
     "data": {
      "text/plain": [
       "'20250319_210118'"
      ]
     },
     "execution_count": 19,
     "metadata": {},
     "output_type": "execute_result"
    }
   ],
   "source": [
    "# Obter a data e hora atual\n",
    "now = datetime.datetime.now()\n",
    "\n",
    "# Formatar a data e hora como 'YYYYMMDD_HHMMSS'\n",
    "timestamp = now.strftime(\"%Y%m%d_%H%M%S\")\n",
    "timestamp"
   ]
  },
  {
   "cell_type": "code",
   "execution_count": 20,
   "metadata": {},
   "outputs": [],
   "source": [
    "source_input = \"../../data/baseTesteIXC_Transform.xlsx\"\n",
    "# source_output = f\"../../src/inserted/cliente_insert_{timestamp}.xlsx\"\n",
    "source_output = f\"../../src/inserted/cliente_insert_sucess.xlsx\""
   ]
  },
  {
   "cell_type": "code",
   "execution_count": 21,
   "metadata": {},
   "outputs": [],
   "source": [
    "# Carregar o DataFrame com as colunas especificadas como strings\n",
    "df = pd.read_excel(source_input, dtype=str).fillna(\"\")"
   ]
  },
  {
   "cell_type": "code",
   "execution_count": 22,
   "metadata": {},
   "outputs": [],
   "source": [
    "# Remover duplicatas\n",
    "df = df.drop_duplicates(subset=[\"cpf_cnpj\"], keep=\"first\")"
   ]
  },
  {
   "cell_type": "code",
   "execution_count": null,
   "metadata": {},
   "outputs": [],
   "source": [
    "# Lista das colunas que fazem sentido enviar para a API\n",
    "colunas_para_api = [\n",
    "    'id',\n",
    "    'razaoSocial',\n",
    "    'Email',\n",
    "    'Celular',\n",
    "    'cpf_cnpj',\n",
    "    'rg_ie',\n",
    "    'filial_id',\n",
    "    'idCidade',\n",
    "    'Endereco',\n",
    "    'Complemento',\n",
    "    'Numero',\n",
    "    'Bairro',\n",
    "    'Cep',\n",
    "]\n",
    "\n",
    "# Filtra o DataFrame para manter apenas essas colunas\n",
    "df = df[colunas_para_api]\n"
   ]
  },
  {
   "cell_type": "markdown",
   "metadata": {},
   "source": [
    "### Inserção teste"
   ]
  },
  {
   "cell_type": "code",
   "execution_count": 24,
   "metadata": {},
   "outputs": [],
   "source": [
    "# inserir_cliente(\n",
    "#     razao=\"Cliente de Teste 2\",\n",
    "#     cnpj_cpf=\"52.459.301/0001-81\",\n",
    "#     cep=\"57160-000\",\n",
    "#     endereco=\"Rua ABC\",\n",
    "#     numero=\"123\",\n",
    "#     bairro=\"Bairro XPTO\",\n",
    "#     filial_id=\"35\",\n",
    "#     cidade=\"1659\",\n",
    "#     uf=\"AL\",\n",
    "#     telefone_celular=\"82999999999\",\n",
    "#     email=\"teste@example.com\",\n",
    "# )"
   ]
  },
  {
   "cell_type": "markdown",
   "metadata": {},
   "source": [
    "## Inserção do DF"
   ]
  },
  {
   "cell_type": "code",
   "execution_count": 25,
   "metadata": {},
   "outputs": [],
   "source": [
    "# Limitando o DF\n",
    "df = df.head(10)"
   ]
  },
  {
   "cell_type": "code",
   "execution_count": 26,
   "metadata": {},
   "outputs": [
    {
     "name": "stdout",
     "output_type": "stream",
     "text": [
      "razaoSocial    0\n",
      "Email          0\n",
      "Celular        0\n",
      "cpf_cnpj       0\n",
      "rg_ie          0\n",
      "filial_id      0\n",
      "idCidade       0\n",
      "Endereco       0\n",
      "Complemento    0\n",
      "Numero         0\n",
      "Bairro         0\n",
      "Cep            0\n",
      "dtype: int64\n"
     ]
    }
   ],
   "source": [
    "# Log para verificação de campo vazio\n",
    "print(df.isnull().sum())"
   ]
  },
  {
   "cell_type": "code",
   "execution_count": null,
   "metadata": {},
   "outputs": [
    {
     "name": "stdout",
     "output_type": "stream",
     "text": [
      "200 OK\n",
      "b'{\"type\":\"success\",\"message\":\"Registro inserido com sucesso!\",\"id\":\"117693\",\"atualiza_campos\":[{\"tipo\":\"r\",\"campo\":\"ativo\",\"valor\":\"S\"},{\"tipo\":\"i\",\"campo\":\"data_cadastro\",\"valor\":\"19\\\\/03\\\\/2025\"},{\"tipo\":\"i\",\"campo\":\"filial_id\",\"valor\":\"35\"},{\"tipo\":\"i\",\"campo\":\"latitude\",\"valor\":\"\"},{\"tipo\":\"i\",\"campo\":\"longitude\",\"valor\":\"\"},{\"tipo\":\"i\",\"campo\":\"id_conta\",\"valor\":\"919704\"},{\"tipo\":\"d\",\"campo\":\"crm_data_vencemos\",\"valor\":\"\"},{\"tipo\":\"r\",\"campo\":\"convert_cliente_forn\",\"valor\":\"\"},{\"tipo\":\"d\",\"campo\":\"crm_data_perdemos\",\"valor\":\"\"},{\"tipo\":\"i\",\"campo\":\"crm_data_sem_viabilidade\",\"valor\":\"\"},{\"tipo\":\"i\",\"campo\":\"crm_data_sem_porta_disponivel\",\"valor\":\"\"},{\"tipo\":\"i\",\"campo\":\"crm_data_abortamos\",\"valor\":\"\"},{\"tipo\":\"i\",\"campo\":\"crm_data_negociando\",\"valor\":\"\"},{\"tipo\":\"i\",\"campo\":\"crm_data_apresentando\",\"valor\":\"\"},{\"tipo\":\"i\",\"campo\":\"crm_data_sondagem\",\"valor\":\"\"},{\"tipo\":\"i\",\"campo\":\"crm_data_novo\",\"valor\":\"\"}]}'\n"
     ]
    }
   ],
   "source": [
    "# Crie uma cópia do DataFrame original para evitar o SettingWithCopyWarning\n",
    "df = df.copy()\n",
    "\n",
    "# Crie as colunas adicionais (inicialmente vazias)\n",
    "df.loc[:, \"idClienteIXC\"] = None\n",
    "df.loc[:, \"statusInsercao\"] = None\n",
    "df.loc[:, \"logRetorno\"] = None\n",
    "\n",
    "for idx, row in df.iterrows():\n",
    "    # Mapeamos as colunas do DF para os parâmetros da função inserir_cliente.\n",
    "    razao = row[\"razaoSocial\"]\n",
    "    email = row[\"Email\"]\n",
    "    celular = row[\"Celular\"]\n",
    "    cnpj_cpf = row[\"cpf_cnpj\"]\n",
    "    rg_ie = row[\"rg_ie\"]\n",
    "    filial = row[\"filial_id\"]\n",
    "    cidade = row[\"idCidade\"] \n",
    "    endereco = row[\"Endereco\"]\n",
    "    complemento = row[\"Complemento\"] if pd.notnull(row[\"Complemento\"]) else \"\"\n",
    "    numero = row[\"Numero\"]\n",
    "    bairro = row[\"Bairro\"]\n",
    "    cep = row[\"Cep\"]\n",
    "    idx = row[\"id\"]\n",
    "    \n",
    "    # Chamamos a função inserir_cliente:\n",
    "    response = inserir_cliente(\n",
    "        razao=razao,\n",
    "        cnpj_cpf=cnpj_cpf,\n",
    "        cep=cep,\n",
    "        endereco=endereco,\n",
    "        numero=numero,\n",
    "        complemento=complemento,\n",
    "        bairro=bairro,\n",
    "        cidade=cidade,\n",
    "        filial_id=filial,\n",
    "        telefone_celular=celular,\n",
    "        email=email,\n",
    "        ie_identidade=rg_ie,\n",
    "        idx=idx\n",
    "        # Se você quiser passar outros campos com valores-padrão, inclua aqui\n",
    "        # Ex.: uf=\"AL\" etc.\n",
    "    )\n",
    "    \n",
    "    status_code = response.status_code\n",
    "    content = response.content  # bytes\n",
    "\n",
    "    # Fazemos parse do JSON:\n",
    "    # b'{\"type\":\"success\",\"message\":\"Registro inserido com sucesso!\",\"id\":\"117580\", ...}'\n",
    "    json_resp = json.loads(content.decode(\"utf-8\", errors=\"replace\"))\n",
    "\n",
    "    if status_code == 200 and json_resp.get(\"type\") == \"success\":\n",
    "        # Sucesso: capturamos o \"id\"\n",
    "        client_id = json_resp.get(\"id\")  # Exemplo: \"117580\"\n",
    "        \n",
    "        df.at[idx, \"idClienteIXC\"] = client_id\n",
    "        df.at[idx, \"statusInsercao\"] = \"sucesso\"\n",
    "        # logRetorno pode ficar vazio ou None em caso de sucesso\n",
    "        df.at[idx, \"logRetorno\"] = json_resp\n",
    "    else:\n",
    "        # Falha: salvamos o log completo\n",
    "        df.at[idx, \"idClienteIXC\"] = None\n",
    "        df.at[idx, \"statusInsercao\"] = \"falha\"\n",
    "        # Guardamos o JSON completo (ou a chave \"message\", se preferir):\n",
    "        df.at[idx, \"logRetorno\"] = json_resp"
   ]
  },
  {
   "cell_type": "markdown",
   "metadata": {},
   "source": [
    "### Retorno"
   ]
  },
  {
   "cell_type": "code",
   "execution_count": 28,
   "metadata": {},
   "outputs": [],
   "source": [
    "df.to_excel(source_output)"
   ]
  },
  {
   "cell_type": "code",
   "execution_count": 29,
   "metadata": {},
   "outputs": [
    {
     "data": {
      "text/html": [
       "<div>\n",
       "<style scoped>\n",
       "    .dataframe tbody tr th:only-of-type {\n",
       "        vertical-align: middle;\n",
       "    }\n",
       "\n",
       "    .dataframe tbody tr th {\n",
       "        vertical-align: top;\n",
       "    }\n",
       "\n",
       "    .dataframe thead th {\n",
       "        text-align: right;\n",
       "    }\n",
       "</style>\n",
       "<table border=\"1\" class=\"dataframe\">\n",
       "  <thead>\n",
       "    <tr style=\"text-align: right;\">\n",
       "      <th></th>\n",
       "      <th>razaoSocial</th>\n",
       "      <th>Email</th>\n",
       "      <th>Celular</th>\n",
       "      <th>cpf_cnpj</th>\n",
       "      <th>rg_ie</th>\n",
       "      <th>filial_id</th>\n",
       "      <th>idCidade</th>\n",
       "      <th>Endereco</th>\n",
       "      <th>Complemento</th>\n",
       "      <th>Numero</th>\n",
       "      <th>Bairro</th>\n",
       "      <th>Cep</th>\n",
       "      <th>idClienteIXC</th>\n",
       "      <th>statusInsercao</th>\n",
       "      <th>logRetorno</th>\n",
       "    </tr>\n",
       "  </thead>\n",
       "  <tbody>\n",
       "    <tr>\n",
       "      <th>0</th>\n",
       "      <td>Abelanio Veríssimo Peixoto</td>\n",
       "      <td>teste@gmail.com</td>\n",
       "      <td>99999999999</td>\n",
       "      <td>014.846.390-81</td>\n",
       "      <td>Isento</td>\n",
       "      <td>35</td>\n",
       "      <td>1659</td>\n",
       "      <td>Vila São Sebastião</td>\n",
       "      <td>Próximo ao cacimbão</td>\n",
       "      <td>0</td>\n",
       "      <td>Centro</td>\n",
       "      <td>57830-000</td>\n",
       "      <td>117693</td>\n",
       "      <td>sucesso</td>\n",
       "      <td>{'type': 'success', 'message': 'Registro inser...</td>\n",
       "    </tr>\n",
       "  </tbody>\n",
       "</table>\n",
       "</div>"
      ],
      "text/plain": [
       "                  razaoSocial            Email      Celular        cpf_cnpj  \\\n",
       "0  Abelanio Veríssimo Peixoto  teste@gmail.com  99999999999  014.846.390-81   \n",
       "\n",
       "    rg_ie filial_id idCidade            Endereco          Complemento Numero  \\\n",
       "0  Isento        35     1659  Vila São Sebastião  Próximo ao cacimbão      0   \n",
       "\n",
       "   Bairro        Cep idClienteIXC statusInsercao  \\\n",
       "0  Centro  57830-000       117693        sucesso   \n",
       "\n",
       "                                          logRetorno  \n",
       "0  {'type': 'success', 'message': 'Registro inser...  "
      ]
     },
     "execution_count": 29,
     "metadata": {},
     "output_type": "execute_result"
    }
   ],
   "source": [
    "df"
   ]
  }
 ],
 "metadata": {
  "kernelspec": {
   "display_name": "Python 3",
   "language": "python",
   "name": "python3"
  },
  "language_info": {
   "codemirror_mode": {
    "name": "ipython",
    "version": 3
   },
   "file_extension": ".py",
   "mimetype": "text/x-python",
   "name": "python",
   "nbconvert_exporter": "python",
   "pygments_lexer": "ipython3",
   "version": "3.13.0"
  }
 },
 "nbformat": 4,
 "nbformat_minor": 2
}
